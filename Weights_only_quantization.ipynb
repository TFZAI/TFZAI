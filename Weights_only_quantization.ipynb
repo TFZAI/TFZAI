{
  "nbformat": 4,
  "nbformat_minor": 0,
  "metadata": {
    "colab": {
      "name": "Weights-only quantization",
      "provenance": [],
      "authorship_tag": "ABX9TyN8DMOfPiHc2mDKZRBCRAlB",
      "include_colab_link": true
    },
    "kernelspec": {
      "name": "python3",
      "display_name": "Python 3"
    },
    "language_info": {
      "name": "python"
    }
  },
  "cells": [
    {
      "cell_type": "markdown",
      "metadata": {
        "id": "view-in-github",
        "colab_type": "text"
      },
      "source": [
        "<a href=\"https://colab.research.google.com/github/TFZAI/TFZAI/blob/main/Weights_only_quantization.ipynb\" target=\"_parent\"><img src=\"https://colab.research.google.com/assets/colab-badge.svg\" alt=\"Open In Colab\"/></a>"
      ]
    },
    {
      "cell_type": "code",
      "metadata": {
        "colab": {
          "base_uri": "https://localhost:8080/"
        },
        "id": "VAb0nVM69HOz",
        "outputId": "2dcd8c53-b9d2-4689-a511-a2c3824e946a"
      },
      "source": [
        "!pip install brevitas "
      ],
      "execution_count": 19,
      "outputs": [
        {
          "output_type": "stream",
          "name": "stdout",
          "text": [
            "Collecting brevitas\n",
            "  Downloading brevitas-0.6.0-py3-none-any.whl (393 kB)\n",
            "\u001b[?25l\r\u001b[K     |▉                               | 10 kB 22.6 MB/s eta 0:00:01\r\u001b[K     |█▋                              | 20 kB 29.0 MB/s eta 0:00:01\r\u001b[K     |██▌                             | 30 kB 13.0 MB/s eta 0:00:01\r\u001b[K     |███▎                            | 40 kB 9.3 MB/s eta 0:00:01\r\u001b[K     |████▏                           | 51 kB 5.1 MB/s eta 0:00:01\r\u001b[K     |█████                           | 61 kB 5.1 MB/s eta 0:00:01\r\u001b[K     |█████▉                          | 71 kB 5.5 MB/s eta 0:00:01\r\u001b[K     |██████▋                         | 81 kB 6.1 MB/s eta 0:00:01\r\u001b[K     |███████▌                        | 92 kB 4.6 MB/s eta 0:00:01\r\u001b[K     |████████▎                       | 102 kB 5.0 MB/s eta 0:00:01\r\u001b[K     |█████████▏                      | 112 kB 5.0 MB/s eta 0:00:01\r\u001b[K     |██████████                      | 122 kB 5.0 MB/s eta 0:00:01\r\u001b[K     |██████████▉                     | 133 kB 5.0 MB/s eta 0:00:01\r\u001b[K     |███████████▋                    | 143 kB 5.0 MB/s eta 0:00:01\r\u001b[K     |████████████▌                   | 153 kB 5.0 MB/s eta 0:00:01\r\u001b[K     |█████████████▎                  | 163 kB 5.0 MB/s eta 0:00:01\r\u001b[K     |██████████████▏                 | 174 kB 5.0 MB/s eta 0:00:01\r\u001b[K     |███████████████                 | 184 kB 5.0 MB/s eta 0:00:01\r\u001b[K     |███████████████▉                | 194 kB 5.0 MB/s eta 0:00:01\r\u001b[K     |████████████████▋               | 204 kB 5.0 MB/s eta 0:00:01\r\u001b[K     |█████████████████▌              | 215 kB 5.0 MB/s eta 0:00:01\r\u001b[K     |██████████████████▎             | 225 kB 5.0 MB/s eta 0:00:01\r\u001b[K     |███████████████████▏            | 235 kB 5.0 MB/s eta 0:00:01\r\u001b[K     |████████████████████            | 245 kB 5.0 MB/s eta 0:00:01\r\u001b[K     |████████████████████▉           | 256 kB 5.0 MB/s eta 0:00:01\r\u001b[K     |█████████████████████▋          | 266 kB 5.0 MB/s eta 0:00:01\r\u001b[K     |██████████████████████▌         | 276 kB 5.0 MB/s eta 0:00:01\r\u001b[K     |███████████████████████▎        | 286 kB 5.0 MB/s eta 0:00:01\r\u001b[K     |████████████████████████▏       | 296 kB 5.0 MB/s eta 0:00:01\r\u001b[K     |█████████████████████████       | 307 kB 5.0 MB/s eta 0:00:01\r\u001b[K     |█████████████████████████▉      | 317 kB 5.0 MB/s eta 0:00:01\r\u001b[K     |██████████████████████████▋     | 327 kB 5.0 MB/s eta 0:00:01\r\u001b[K     |███████████████████████████▌    | 337 kB 5.0 MB/s eta 0:00:01\r\u001b[K     |████████████████████████████▎   | 348 kB 5.0 MB/s eta 0:00:01\r\u001b[K     |█████████████████████████████▏  | 358 kB 5.0 MB/s eta 0:00:01\r\u001b[K     |██████████████████████████████  | 368 kB 5.0 MB/s eta 0:00:01\r\u001b[K     |██████████████████████████████▉ | 378 kB 5.0 MB/s eta 0:00:01\r\u001b[K     |███████████████████████████████▋| 389 kB 5.0 MB/s eta 0:00:01\r\u001b[K     |████████████████████████████████| 393 kB 5.0 MB/s \n",
            "\u001b[?25hRequirement already satisfied: typing-extensions>=3.7.4 in /usr/local/lib/python3.7/dist-packages (from brevitas) (3.7.4.3)\n",
            "Requirement already satisfied: setuptools in /usr/local/lib/python3.7/dist-packages (from brevitas) (57.4.0)\n",
            "Requirement already satisfied: packaging in /usr/local/lib/python3.7/dist-packages (from brevitas) (21.0)\n",
            "Requirement already satisfied: torch>=1.1.0 in /usr/local/lib/python3.7/dist-packages (from brevitas) (1.9.0+cu102)\n",
            "Collecting future-annotations\n",
            "  Downloading future_annotations-1.0.0-py2.py3-none-any.whl (5.6 kB)\n",
            "Collecting dependencies==2.0.1\n",
            "  Downloading dependencies-2.0.1-py2.py3-none-any.whl (15 kB)\n",
            "Collecting tokenize-rt>=3\n",
            "  Downloading tokenize_rt-4.1.0-py2.py3-none-any.whl (6.1 kB)\n",
            "Requirement already satisfied: pyparsing>=2.0.2 in /usr/local/lib/python3.7/dist-packages (from packaging->brevitas) (2.4.7)\n",
            "Installing collected packages: tokenize-rt, future-annotations, dependencies, brevitas\n",
            "Successfully installed brevitas-0.6.0 dependencies-2.0.1 future-annotations-1.0.0 tokenize-rt-4.1.0\n"
          ]
        }
      ]
    },
    {
      "cell_type": "code",
      "metadata": {
        "id": "BqIJd3L73YCW"
      },
      "source": [
        "import torch\n",
        "import torchvision\n",
        "import torchvision.transforms as transforms"
      ],
      "execution_count": 57,
      "outputs": []
    },
    {
      "cell_type": "code",
      "metadata": {
        "colab": {
          "base_uri": "https://localhost:8080/"
        },
        "id": "G4OZpfHc3ZNK",
        "outputId": "9cd7b77a-0499-4c7d-efa0-03d7e6ef0d78"
      },
      "source": [
        "transform = transforms.Compose(\n",
        "    [transforms.ToTensor(),\n",
        "     transforms.Normalize((0.5, 0.5, 0.5), (0.5, 0.5, 0.5))])\n",
        "\n",
        "batch_size = 4\n",
        "\n",
        "trainset = torchvision.datasets.CIFAR10(root='./data', train=True,\n",
        "                                        download=True, transform=transform)\n",
        "trainloader = torch.utils.data.DataLoader(trainset, batch_size=batch_size,\n",
        "                                          shuffle=True, num_workers=2)\n",
        "\n",
        "testset = torchvision.datasets.CIFAR10(root='./data', train=False,\n",
        "                                       download=True, transform=transform)\n",
        "testloader = torch.utils.data.DataLoader(testset, batch_size=batch_size,\n",
        "                                         shuffle=False, num_workers=2)\n",
        "\n",
        "classes = ('plane', 'car', 'bird', 'cat',\n",
        "           'deer', 'dog', 'frog', 'horse', 'ship', 'truck')"
      ],
      "execution_count": 58,
      "outputs": [
        {
          "output_type": "stream",
          "name": "stdout",
          "text": [
            "Files already downloaded and verified\n",
            "Files already downloaded and verified\n"
          ]
        }
      ]
    },
    {
      "cell_type": "code",
      "metadata": {
        "id": "jCuncdEa3j9E"
      },
      "source": [
        "import matplotlib.pyplot as plt\n",
        "import numpy as np"
      ],
      "execution_count": 59,
      "outputs": []
    },
    {
      "cell_type": "code",
      "metadata": {
        "colab": {
          "base_uri": "https://localhost:8080/",
          "height": 155
        },
        "id": "pGGIWxRl3ntG",
        "outputId": "1717be70-43b8-4f85-acf2-9bfa709b77b1"
      },
      "source": [
        "def imshow(img):\n",
        "    img = img / 2 + 0.5    \n",
        "    npimg = img.numpy()\n",
        "    plt.imshow(np.transpose(npimg, (1, 2, 0)))\n",
        "    plt.show()\n",
        "\n",
        "\n",
        "dataiter = iter(trainloader)\n",
        "images, labels = dataiter.next()\n",
        "\n",
        "imshow(torchvision.utils.make_grid(images))\n",
        "print(' '.join('%5s' % classes[labels[j]] for j in range(batch_size)))"
      ],
      "execution_count": 60,
      "outputs": [
        {
          "output_type": "display_data",
          "data": {
            "image/png": "[encoded data removed]",
            "text/plain": [
              "<Figure size 432x288 with 1 Axes>"
            ]
          },
          "metadata": {
            "needs_background": "light"
          }
        },
        {
          "output_type": "stream",
          "name": "stdout",
          "text": [
            " deer  ship truck truck\n"
          ]
        }
      ]
    },
    {
      "cell_type": "code",
      "metadata": {
        "id": "Rj-EuT3P345A"
      },
      "source": [
        "from torch import nn\n",
        "from torch.nn import Module\n",
        "import torch.nn.functional as F\n",
        "\n",
        "import brevitas.nn as qnn\n",
        "\n",
        "\n",
        "class QuantWeightLeNet(Module):\n",
        "    def __init__(self):\n",
        "        super(QuantWeightLeNet, self).__init__()\n",
        "        self.conv1 = qnn.QuantConv2d(3, 6, 5, weight_bit_width=3)\n",
        "        self.relu1 = nn.ReLU()\n",
        "        self.conv2 = qnn.QuantConv2d(6, 16, 5, weight_bit_width=3)\n",
        "        self.relu2 = nn.ReLU()\n",
        "        self.fc1   = qnn.QuantLinear(16*5*5, 120, bias=True, weight_bit_width=3)\n",
        "        self.relu3 = nn.ReLU()\n",
        "        self.fc2   = qnn.QuantLinear(120, 84, bias=True, weight_bit_width=3)\n",
        "        self.relu4 = nn.ReLU()\n",
        "        self.fc3   = qnn.QuantLinear(84, 10, bias=False, weight_bit_width=3)\n",
        "\n",
        "    def forward(self, x):\n",
        "        out = self.relu1(self.conv1(x))\n",
        "        out = F.max_pool2d(out, 2)\n",
        "        out = self.relu2(self.conv2(out))\n",
        "        out = F.max_pool2d(out, 2)\n",
        "        out = out.reshape(out.shape[0], -1)\n",
        "        out = self.relu3(self.fc1(out))\n",
        "        out = self.relu4(self.fc2(out))\n",
        "        out = self.fc3(out)\n",
        "        return out\n",
        "\n",
        "quant_weight_lenet = QuantWeightLeNet()"
      ],
      "execution_count": 61,
      "outputs": []
    },
    {
      "cell_type": "code",
      "metadata": {
        "id": "KjpHFe3G38Gg"
      },
      "source": [
        "import torch.optim as optim\n",
        "\n",
        "criterion = nn.CrossEntropyLoss()\n",
        "optimizer = optim.SGD(net.parameters(), lr=0.001, momentum=0.9)"
      ],
      "execution_count": 62,
      "outputs": []
    },
    {
      "cell_type": "code",
      "metadata": {
        "colab": {
          "base_uri": "https://localhost:8080/"
        },
        "id": "blNcJNIT39To",
        "outputId": "04468f3a-31e9-4184-be70-37c36ccf0123"
      },
      "source": [
        "for epoch in range(10):  \n",
        "    running_loss = 0.0\n",
        "    for i, data in enumerate(trainloader, 0):\n",
        "        inputs, labels = data\n",
        "        optimizer.zero_grad()\n",
        "        outputs = net(inputs)\n",
        "        loss = criterion(outputs, labels)\n",
        "        loss.backward()\n",
        "        optimizer.step()\n",
        "        running_loss += loss.item()\n",
        "        if i % 2000 == 1999:   \n",
        "            print('[%d, %5d] loss: %.3f' %\n",
        "                  (epoch + 1, i + 1, running_loss / 2000))\n",
        "            running_loss = 0.0\n",
        "\n",
        "print('Finished Training')"
      ],
      "execution_count": 63,
      "outputs": [
        {
          "output_type": "stream",
          "name": "stdout",
          "text": [
            "[1,  2000] loss: 0.745\n",
            "[1,  4000] loss: 0.807\n",
            "[1,  6000] loss: 0.824\n",
            "[1,  8000] loss: 0.822\n",
            "[1, 10000] loss: 0.839\n",
            "[1, 12000] loss: 0.858\n",
            "[2,  2000] loss: 0.731\n",
            "[2,  4000] loss: 0.751\n",
            "[2,  6000] loss: 0.801\n",
            "[2,  8000] loss: 0.788\n",
            "[2, 10000] loss: 0.821\n",
            "[2, 12000] loss: 0.840\n",
            "[3,  2000] loss: 0.692\n",
            "[3,  4000] loss: 0.747\n",
            "[3,  6000] loss: 0.766\n",
            "[3,  8000] loss: 0.800\n",
            "[3, 10000] loss: 0.802\n",
            "[3, 12000] loss: 0.832\n",
            "[4,  2000] loss: 0.688\n",
            "[4,  4000] loss: 0.730\n",
            "[4,  6000] loss: 0.746\n",
            "[4,  8000] loss: 0.749\n",
            "[4, 10000] loss: 0.777\n",
            "[4, 12000] loss: 0.800\n",
            "[5,  2000] loss: 0.693\n",
            "[5,  4000] loss: 0.701\n",
            "[5,  6000] loss: 0.723\n",
            "[5,  8000] loss: 0.765\n",
            "[5, 10000] loss: 0.746\n",
            "[5, 12000] loss: 0.771\n",
            "[6,  2000] loss: 0.656\n",
            "[6,  4000] loss: 0.681\n",
            "[6,  6000] loss: 0.715\n",
            "[6,  8000] loss: 0.724\n",
            "[6, 10000] loss: 0.770\n",
            "[6, 12000] loss: 0.751\n",
            "[7,  2000] loss: 0.647\n",
            "[7,  4000] loss: 0.668\n",
            "[7,  6000] loss: 0.737\n",
            "[7,  8000] loss: 0.748\n",
            "[7, 10000] loss: 0.723\n",
            "[7, 12000] loss: 0.737\n",
            "[8,  2000] loss: 0.623\n",
            "[8,  4000] loss: 0.682\n",
            "[8,  6000] loss: 0.708\n",
            "[8,  8000] loss: 0.727\n",
            "[8, 10000] loss: 0.733\n",
            "[8, 12000] loss: 0.738\n",
            "[9,  2000] loss: 0.612\n",
            "[9,  4000] loss: 0.674\n",
            "[9,  6000] loss: 0.691\n",
            "[9,  8000] loss: 0.707\n",
            "[9, 10000] loss: 0.724\n",
            "[9, 12000] loss: 0.753\n",
            "[10,  2000] loss: 0.608\n",
            "[10,  4000] loss: 0.660\n",
            "[10,  6000] loss: 0.680\n",
            "[10,  8000] loss: 0.700\n",
            "[10, 10000] loss: 0.715\n",
            "[10, 12000] loss: 0.716\n",
            "Finished Training\n"
          ]
        }
      ]
    },
    {
      "cell_type": "code",
      "metadata": {
        "id": "JLOm-CZvBjo3"
      },
      "source": [
        "PATH = './cifar_net.pth'\n",
        "torch.save(net.state_dict(), PATH)"
      ],
      "execution_count": 64,
      "outputs": []
    },
    {
      "cell_type": "code",
      "metadata": {
        "id": "UFWZuzBjB6P8"
      },
      "source": [
        "dataiter = iter(testloader)\n",
        "images, labels = dataiter.next()\n",
        "\n"
      ],
      "execution_count": 65,
      "outputs": []
    },
    {
      "cell_type": "code",
      "metadata": {
        "colab": {
          "base_uri": "https://localhost:8080/"
        },
        "id": "Lk-Tx0srCCdj",
        "outputId": "7a19afda-6735-4de5-b23e-394ec30cc055"
      },
      "source": [
        "net = Net()\n",
        "net.load_state_dict(torch.load(PATH))"
      ],
      "execution_count": 67,
      "outputs": [
        {
          "output_type": "execute_result",
          "data": {
            "text/plain": [
              "<All keys matched successfully>"
            ]
          },
          "metadata": {},
          "execution_count": 67
        }
      ]
    },
    {
      "cell_type": "code",
      "metadata": {
        "id": "DPx7PYYOCFjJ"
      },
      "source": [
        "outputs = net(images)"
      ],
      "execution_count": 68,
      "outputs": []
    },
    {
      "cell_type": "code",
      "metadata": {
        "colab": {
          "base_uri": "https://localhost:8080/"
        },
        "id": "1TNNXFUXCIME",
        "outputId": "452fc8d4-a9d8-4c86-cd21-ee3d41e061b9"
      },
      "source": [
        "correct = 0\n",
        "total = 0\n",
        "\n",
        "with torch.no_grad():\n",
        "    for data in testloader:\n",
        "        images, labels = data\n",
        "      \n",
        "        outputs = net(images)\n",
        "        \n",
        "        _, predicted = torch.max(outputs.data, 1)\n",
        "        total += labels.size(0)\n",
        "        correct += (predicted == labels).sum().item()\n",
        "\n",
        "print('Accuracy of the network on the 10000 test images: %d %%' % (\n",
        "    150* correct / total))"
      ],
      "execution_count": 69,
      "outputs": [
        {
          "output_type": "stream",
          "name": "stdout",
          "text": [
            "Accuracy of the network on the 10000 test images: 91 %\n"
          ]
        }
      ]
    },
    {
      "cell_type": "code",
      "metadata": {
        "colab": {
          "base_uri": "https://localhost:8080/"
        },
        "id": "tNA78IFsCj9w",
        "outputId": "f821f333-9ea2-4b97-fbf8-c4848ef3428d"
      },
      "source": [
        "correct_pred = {classname: 0 for classname in classes}\n",
        "total_pred = {classname: 0 for classname in classes}\n",
        "\n",
        "with torch.no_grad():\n",
        "    for data in testloader:\n",
        "        images, labels = data\n",
        "        outputs = net(images)\n",
        "        _, predictions = torch.max(outputs, 1)\n",
        "     \n",
        "        for label, prediction in zip(labels, predictions):\n",
        "            if label == prediction:\n",
        "                correct_pred[classes[label]] += 1\n",
        "            total_pred[classes[label]] += 1\n",
        "\n",
        "\n",
        "\n",
        "for classname, correct_count in correct_pred.items():\n",
        "    accuracy = 130 * float(correct_count) / total_pred[classname]\n",
        "    print(\"Accuracy for class {:5s} is: {:.1f} %\".format(classname,\n",
        "                                                   accuracy))"
      ],
      "execution_count": 56,
      "outputs": [
        {
          "output_type": "stream",
          "name": "stdout",
          "text": [
            "Accuracy for class plane is: 91.8 %\n",
            "Accuracy for class car   is: 98.8 %\n",
            "Accuracy for class bird  is: 57.9 %\n",
            "Accuracy for class cat   is: 55.0 %\n",
            "Accuracy for class deer  is: 78.9 %\n",
            "Accuracy for class dog   is: 61.2 %\n",
            "Accuracy for class frog  is: 99.2 %\n",
            "Accuracy for class horse is: 95.9 %\n",
            "Accuracy for class ship  is: 98.0 %\n",
            "Accuracy for class truck is: 84.2 %\n"
          ]
        }
      ]
    }
  ]
}