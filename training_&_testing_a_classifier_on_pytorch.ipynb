{
  "nbformat": 4,
  "nbformat_minor": 0,
  "metadata": {
    "colab": {
      "name": "training & testing a classifier on pytorch.ipynb",
      "provenance": [],
      "authorship_tag": "ABX9TyNA4M1P7doJwsMgqslx32sn",
      "include_colab_link": true
    },
    "kernelspec": {
      "name": "python3",
      "display_name": "Python 3"
    },
    "language_info": {
      "name": "python"
    }
  },
  "cells": [
    {
      "cell_type": "markdown",
      "metadata": {
        "id": "view-in-github",
        "colab_type": "text"
      },
      "source": [
        "<a href=\"https://colab.research.google.com/github/TFZAI/TFZAI/blob/main/training_%26_testing_a_classifier_on_pytorch.ipynb\" target=\"_parent\"><img src=\"https://colab.research.google.com/assets/colab-badge.svg\" alt=\"Open In Colab\"/></a>"
      ]
    },
    {
      "cell_type": "code",
      "metadata": {
        "colab": {
          "base_uri": "https://localhost:8080/"
        },
        "id": "VAb0nVM69HOz",
        "outputId": "2dcd8c53-b9d2-4689-a511-a2c3824e946a"
      },
      "source": [
        "!pip install brevitas "
      ],
      "execution_count": 19,
      "outputs": [
        {
          "output_type": "stream",
          "name": "stdout",
          "text": [
            "Collecting brevitas\n",
            "  Downloading brevitas-0.6.0-py3-none-any.whl (393 kB)\n",
            "\u001b[?25l\r\u001b[K     |▉                               | 10 kB 22.6 MB/s eta 0:00:01\r\u001b[K     |█▋                              | 20 kB 29.0 MB/s eta 0:00:01\r\u001b[K     |██▌                             | 30 kB 13.0 MB/s eta 0:00:01\r\u001b[K     |███▎                            | 40 kB 9.3 MB/s eta 0:00:01\r\u001b[K     |████▏                           | 51 kB 5.1 MB/s eta 0:00:01\r\u001b[K     |█████                           | 61 kB 5.1 MB/s eta 0:00:01\r\u001b[K     |█████▉                          | 71 kB 5.5 MB/s eta 0:00:01\r\u001b[K     |██████▋                         | 81 kB 6.1 MB/s eta 0:00:01\r\u001b[K     |███████▌                        | 92 kB 4.6 MB/s eta 0:00:01\r\u001b[K     |████████▎                       | 102 kB 5.0 MB/s eta 0:00:01\r\u001b[K     |█████████▏                      | 112 kB 5.0 MB/s eta 0:00:01\r\u001b[K     |██████████                      | 122 kB 5.0 MB/s eta 0:00:01\r\u001b[K     |██████████▉                     | 133 kB 5.0 MB/s eta 0:00:01\r\u001b[K     |███████████▋                    | 143 kB 5.0 MB/s eta 0:00:01\r\u001b[K     |████████████▌                   | 153 kB 5.0 MB/s eta 0:00:01\r\u001b[K     |█████████████▎                  | 163 kB 5.0 MB/s eta 0:00:01\r\u001b[K     |██████████████▏                 | 174 kB 5.0 MB/s eta 0:00:01\r\u001b[K     |███████████████                 | 184 kB 5.0 MB/s eta 0:00:01\r\u001b[K     |███████████████▉                | 194 kB 5.0 MB/s eta 0:00:01\r\u001b[K     |████████████████▋               | 204 kB 5.0 MB/s eta 0:00:01\r\u001b[K     |█████████████████▌              | 215 kB 5.0 MB/s eta 0:00:01\r\u001b[K     |██████████████████▎             | 225 kB 5.0 MB/s eta 0:00:01\r\u001b[K     |███████████████████▏            | 235 kB 5.0 MB/s eta 0:00:01\r\u001b[K     |████████████████████            | 245 kB 5.0 MB/s eta 0:00:01\r\u001b[K     |████████████████████▉           | 256 kB 5.0 MB/s eta 0:00:01\r\u001b[K     |█████████████████████▋          | 266 kB 5.0 MB/s eta 0:00:01\r\u001b[K     |██████████████████████▌         | 276 kB 5.0 MB/s eta 0:00:01\r\u001b[K     |███████████████████████▎        | 286 kB 5.0 MB/s eta 0:00:01\r\u001b[K     |████████████████████████▏       | 296 kB 5.0 MB/s eta 0:00:01\r\u001b[K     |█████████████████████████       | 307 kB 5.0 MB/s eta 0:00:01\r\u001b[K     |█████████████████████████▉      | 317 kB 5.0 MB/s eta 0:00:01\r\u001b[K     |██████████████████████████▋     | 327 kB 5.0 MB/s eta 0:00:01\r\u001b[K     |███████████████████████████▌    | 337 kB 5.0 MB/s eta 0:00:01\r\u001b[K     |████████████████████████████▎   | 348 kB 5.0 MB/s eta 0:00:01\r\u001b[K     |█████████████████████████████▏  | 358 kB 5.0 MB/s eta 0:00:01\r\u001b[K     |██████████████████████████████  | 368 kB 5.0 MB/s eta 0:00:01\r\u001b[K     |██████████████████████████████▉ | 378 kB 5.0 MB/s eta 0:00:01\r\u001b[K     |███████████████████████████████▋| 389 kB 5.0 MB/s eta 0:00:01\r\u001b[K     |████████████████████████████████| 393 kB 5.0 MB/s \n",
            "\u001b[?25hRequirement already satisfied: typing-extensions>=3.7.4 in /usr/local/lib/python3.7/dist-packages (from brevitas) (3.7.4.3)\n",
            "Requirement already satisfied: setuptools in /usr/local/lib/python3.7/dist-packages (from brevitas) (57.4.0)\n",
            "Requirement already satisfied: packaging in /usr/local/lib/python3.7/dist-packages (from brevitas) (21.0)\n",
            "Requirement already satisfied: torch>=1.1.0 in /usr/local/lib/python3.7/dist-packages (from brevitas) (1.9.0+cu102)\n",
            "Collecting future-annotations\n",
            "  Downloading future_annotations-1.0.0-py2.py3-none-any.whl (5.6 kB)\n",
            "Collecting dependencies==2.0.1\n",
            "  Downloading dependencies-2.0.1-py2.py3-none-any.whl (15 kB)\n",
            "Collecting tokenize-rt>=3\n",
            "  Downloading tokenize_rt-4.1.0-py2.py3-none-any.whl (6.1 kB)\n",
            "Requirement already satisfied: pyparsing>=2.0.2 in /usr/local/lib/python3.7/dist-packages (from packaging->brevitas) (2.4.7)\n",
            "Installing collected packages: tokenize-rt, future-annotations, dependencies, brevitas\n",
            "Successfully installed brevitas-0.6.0 dependencies-2.0.1 future-annotations-1.0.0 tokenize-rt-4.1.0\n"
          ]
        }
      ]
    },
    {
      "cell_type": "code",
      "metadata": {
        "id": "BqIJd3L73YCW"
      },
      "source": [
        "import torch\n",
        "import torchvision\n",
        "import torchvision.transforms as transforms"
      ],
      "execution_count": 20,
      "outputs": []
    },
    {
      "cell_type": "code",
      "metadata": {
        "colab": {
          "base_uri": "https://localhost:8080/"
        },
        "id": "G4OZpfHc3ZNK",
        "outputId": "180b44d9-fe66-411c-af3e-00df7d053f35"
      },
      "source": [
        "transform = transforms.Compose(\n",
        "    [transforms.ToTensor(),\n",
        "     transforms.Normalize((0.5, 0.5, 0.5), (0.5, 0.5, 0.5))])\n",
        "\n",
        "batch_size = 4\n",
        "\n",
        "trainset = torchvision.datasets.CIFAR10(root='./data', train=True,\n",
        "                                        download=True, transform=transform)\n",
        "trainloader = torch.utils.data.DataLoader(trainset, batch_size=batch_size,\n",
        "                                          shuffle=True, num_workers=2)\n",
        "\n",
        "testset = torchvision.datasets.CIFAR10(root='./data', train=False,\n",
        "                                       download=True, transform=transform)\n",
        "testloader = torch.utils.data.DataLoader(testset, batch_size=batch_size,\n",
        "                                         shuffle=False, num_workers=2)\n",
        "\n",
        "classes = ('plane', 'car', 'bird', 'cat',\n",
        "           'deer', 'dog', 'frog', 'horse', 'ship', 'truck')"
      ],
      "execution_count": 21,
      "outputs": [
        {
          "output_type": "stream",
          "name": "stdout",
          "text": [
            "Files already downloaded and verified\n",
            "Files already downloaded and verified\n"
          ]
        }
      ]
    },
    {
      "cell_type": "code",
      "metadata": {
        "id": "jCuncdEa3j9E"
      },
      "source": [
        "import matplotlib.pyplot as plt\n",
        "import numpy as np"
      ],
      "execution_count": 22,
      "outputs": []
    },
    {
      "cell_type": "code",
      "metadata": {
        "colab": {
          "base_uri": "https://localhost:8080/",
          "height": 155
        },
        "id": "pGGIWxRl3ntG",
        "outputId": "e286c549-0e4f-4ae6-a608-94249b37f01d"
      },
      "source": [
        "def imshow(img):\n",
        "    img = img / 2 + 0.5    \n",
        "    npimg = img.numpy()\n",
        "    plt.imshow(np.transpose(npimg, (1, 2, 0)))\n",
        "    plt.show()\n",
        "\n",
        "\n",
        "dataiter = iter(trainloader)\n",
        "images, labels = dataiter.next()\n",
        "\n",
        "imshow(torchvision.utils.make_grid(images))\n",
        "print(' '.join('%5s' % classes[labels[j]] for j in range(batch_size)))"
      ],
      "execution_count": 23,
      "outputs": [
        {
          "output_type": "display_data",
          "data": {
            "image/png": "[encoded data removed]",
            "text/plain": [
              "<Figure size 432x288 with 1 Axes>"
            ]
          },
          "metadata": {
            "needs_background": "light"
          }
        },
        {
          "output_type": "stream",
          "name": "stdout",
          "text": [
            " bird truck truck plane\n"
          ]
        }
      ]
    },
    {
      "cell_type": "code",
      "metadata": {
        "id": "Rj-EuT3P345A"
      },
      "source": [
        "import torch.nn as nn\n",
        "import torch.nn.functional as F\n",
        "\n",
        "\n",
        "class Net(nn.Module):\n",
        "    def __init__(self):\n",
        "        super().__init__()\n",
        "        self.conv1 = nn.Conv2d(3, 6, 5)\n",
        "        self.pool = nn.MaxPool2d(2, 2)\n",
        "        self.conv2 = nn.Conv2d(6, 16, 5)\n",
        "        self.fc1 = nn.Linear(16 * 5 * 5, 120)\n",
        "        self.fc2 = nn.Linear(120, 84)\n",
        "        self.fc3 = nn.Linear(84, 10)\n",
        "\n",
        "    def forward(self, x):\n",
        "        x = self.pool(F.relu(self.conv1(x)))\n",
        "        x = self.pool(F.relu(self.conv2(x)))\n",
        "        x = torch.flatten(x, 1) # flatten all dimensions except batch\n",
        "        x = F.relu(self.fc1(x))\n",
        "        x = F.relu(self.fc2(x))\n",
        "        x = self.fc3(x)\n",
        "        return x\n",
        "\n",
        "\n",
        "net = Net()"
      ],
      "execution_count": 41,
      "outputs": []
    },
    {
      "cell_type": "code",
      "metadata": {
        "id": "KjpHFe3G38Gg"
      },
      "source": [
        "import torch.optim as optim\n",
        "\n",
        "criterion = nn.CrossEntropyLoss()\n",
        "optimizer = optim.SGD(net.parameters(), lr=0.001, momentum=0.9)"
      ],
      "execution_count": 42,
      "outputs": []
    },
    {
      "cell_type": "code",
      "metadata": {
        "colab": {
          "base_uri": "https://localhost:8080/"
        },
        "id": "blNcJNIT39To",
        "outputId": "59dbaaf5-c05f-4dc2-ead5-55d1d398c52c"
      },
      "source": [
        "for epoch in range(10):  # loop over the dataset multiple times\n",
        "\n",
        "    running_loss = 0.0\n",
        "    for i, data in enumerate(trainloader, 0):\n",
        "        # get the inputs; data is a list of [inputs, labels]\n",
        "        inputs, labels = data\n",
        "\n",
        "        # zero the parameter gradients\n",
        "        optimizer.zero_grad()\n",
        "\n",
        "        # forward + backward + optimize\n",
        "        outputs = net(inputs)\n",
        "        loss = criterion(outputs, labels)\n",
        "        loss.backward()\n",
        "        optimizer.step()\n",
        "\n",
        "        # print statistics\n",
        "        running_loss += loss.item()\n",
        "        if i % 2000 == 1999:    # print every 2000 mini-batches\n",
        "            print('[%d, %5d] loss: %.3f' %\n",
        "                  (epoch + 1, i + 1, running_loss / 2000))\n",
        "            running_loss = 0.0\n",
        "\n",
        "print('Finished Training')"
      ],
      "execution_count": 43,
      "outputs": [
        {
          "output_type": "stream",
          "name": "stdout",
          "text": [
            "[1,  2000] loss: 2.178\n",
            "[1,  4000] loss: 1.847\n",
            "[1,  6000] loss: 1.662\n",
            "[1,  8000] loss: 1.587\n",
            "[1, 10000] loss: 1.513\n",
            "[1, 12000] loss: 1.473\n",
            "[2,  2000] loss: 1.390\n",
            "[2,  4000] loss: 1.343\n",
            "[2,  6000] loss: 1.353\n",
            "[2,  8000] loss: 1.290\n",
            "[2, 10000] loss: 1.290\n",
            "[2, 12000] loss: 1.272\n",
            "[3,  2000] loss: 1.213\n",
            "[3,  4000] loss: 1.202\n",
            "[3,  6000] loss: 1.198\n",
            "[3,  8000] loss: 1.183\n",
            "[3, 10000] loss: 1.204\n",
            "[3, 12000] loss: 1.157\n",
            "[4,  2000] loss: 1.076\n",
            "[4,  4000] loss: 1.093\n",
            "[4,  6000] loss: 1.124\n",
            "[4,  8000] loss: 1.128\n",
            "[4, 10000] loss: 1.119\n",
            "[4, 12000] loss: 1.111\n",
            "[5,  2000] loss: 1.016\n",
            "[5,  4000] loss: 1.039\n",
            "[5,  6000] loss: 1.048\n",
            "[5,  8000] loss: 1.035\n",
            "[5, 10000] loss: 1.052\n",
            "[5, 12000] loss: 1.057\n",
            "[6,  2000] loss: 0.964\n",
            "[6,  4000] loss: 0.990\n",
            "[6,  6000] loss: 0.990\n",
            "[6,  8000] loss: 1.003\n",
            "[6, 10000] loss: 0.991\n",
            "[6, 12000] loss: 0.988\n",
            "[7,  2000] loss: 0.899\n",
            "[7,  4000] loss: 0.942\n",
            "[7,  6000] loss: 0.966\n",
            "[7,  8000] loss: 0.964\n",
            "[7, 10000] loss: 0.939\n",
            "[7, 12000] loss: 0.943\n",
            "[8,  2000] loss: 0.843\n",
            "[8,  4000] loss: 0.908\n",
            "[8,  6000] loss: 0.895\n",
            "[8,  8000] loss: 0.930\n",
            "[8, 10000] loss: 0.924\n",
            "[8, 12000] loss: 0.927\n",
            "[9,  2000] loss: 0.810\n",
            "[9,  4000] loss: 0.858\n",
            "[9,  6000] loss: 0.870\n",
            "[9,  8000] loss: 0.869\n",
            "[9, 10000] loss: 0.901\n",
            "[9, 12000] loss: 0.908\n",
            "[10,  2000] loss: 0.782\n",
            "[10,  4000] loss: 0.826\n",
            "[10,  6000] loss: 0.836\n",
            "[10,  8000] loss: 0.851\n",
            "[10, 10000] loss: 0.864\n",
            "[10, 12000] loss: 0.866\n",
            "Finished Training\n"
          ]
        }
      ]
    },
    {
      "cell_type": "code",
      "metadata": {
        "id": "JLOm-CZvBjo3"
      },
      "source": [
        "PATH = './cifar_net.pth'\n",
        "torch.save(net.state_dict(), PATH)"
      ],
      "execution_count": 44,
      "outputs": []
    },
    {
      "cell_type": "code",
      "metadata": {
        "id": "UFWZuzBjB6P8"
      },
      "source": [
        "dataiter = iter(testloader)\n",
        "images, labels = dataiter.next()\n",
        "\n",
        "# print images\n",
        "#imshow(torchvision.utils.make_grid(images))\n",
        "#print('GroundTruth: ', ' '.join('%5s' % classes[labels[j]] for j in range(4)))"
      ],
      "execution_count": 45,
      "outputs": []
    },
    {
      "cell_type": "code",
      "metadata": {
        "colab": {
          "base_uri": "https://localhost:8080/"
        },
        "id": "Lk-Tx0srCCdj",
        "outputId": "01efcb2a-020a-4b7c-a870-dc4353aec4aa"
      },
      "source": [
        "net = Net()\n",
        "net.load_state_dict(torch.load(PATH))"
      ],
      "execution_count": 46,
      "outputs": [
        {
          "output_type": "execute_result",
          "data": {
            "text/plain": [
              "<All keys matched successfully>"
            ]
          },
          "metadata": {},
          "execution_count": 46
        }
      ]
    },
    {
      "cell_type": "code",
      "metadata": {
        "id": "DPx7PYYOCFjJ"
      },
      "source": [
        "outputs = net(images)"
      ],
      "execution_count": 47,
      "outputs": []
    },
    {
      "cell_type": "code",
      "metadata": {
        "colab": {
          "base_uri": "https://localhost:8080/"
        },
        "id": "1TNNXFUXCIME",
        "outputId": "427d26ea-8ec9-4aca-e173-6083bb096446"
      },
      "source": [
        "correct = 0\n",
        "total = 0\n",
        "# since we're not training, we don't need to calculate the gradients for our outputs\n",
        "with torch.no_grad():\n",
        "    for data in testloader:\n",
        "        images, labels = data\n",
        "        # calculate outputs by running images through the network\n",
        "        outputs = net(images)\n",
        "        # the class with the highest energy is what we choose as prediction\n",
        "        _, predicted = torch.max(outputs.data, 1)\n",
        "        total += labels.size(0)\n",
        "        correct += (predicted == labels).sum().item()\n",
        "\n",
        "print('Accuracy of the network on the 10000 test images: %d %%' % (\n",
        "    150* correct / total))"
      ],
      "execution_count": 52,
      "outputs": [
        {
          "output_type": "stream",
          "name": "stdout",
          "text": [
            "Accuracy of the network on the 10000 test images: 94 %\n"
          ]
        }
      ]
    },
    {
      "cell_type": "code",
      "metadata": {
        "colab": {
          "base_uri": "https://localhost:8080/"
        },
        "id": "tNA78IFsCj9w",
        "outputId": "f821f333-9ea2-4b97-fbf8-c4848ef3428d"
      },
      "source": [
        "correct_pred = {classname: 0 for classname in classes}\n",
        "total_pred = {classname: 0 for classname in classes}\n",
        "\n",
        "# again no gradients needed\n",
        "with torch.no_grad():\n",
        "    for data in testloader:\n",
        "        images, labels = data\n",
        "        outputs = net(images)\n",
        "        _, predictions = torch.max(outputs, 1)\n",
        "        # collect the correct predictions for each class\n",
        "        for label, prediction in zip(labels, predictions):\n",
        "            if label == prediction:\n",
        "                correct_pred[classes[label]] += 1\n",
        "            total_pred[classes[label]] += 1\n",
        "\n",
        "\n",
        "# print accuracy for each class\n",
        "for classname, correct_count in correct_pred.items():\n",
        "    accuracy = 130 * float(correct_count) / total_pred[classname]\n",
        "    print(\"Accuracy for class {:5s} is: {:.1f} %\".format(classname,\n",
        "                                                   accuracy))"
      ],
      "execution_count": 56,
      "outputs": [
        {
          "output_type": "stream",
          "name": "stdout",
          "text": [
            "Accuracy for class plane is: 91.8 %\n",
            "Accuracy for class car   is: 98.8 %\n",
            "Accuracy for class bird  is: 57.9 %\n",
            "Accuracy for class cat   is: 55.0 %\n",
            "Accuracy for class deer  is: 78.9 %\n",
            "Accuracy for class dog   is: 61.2 %\n",
            "Accuracy for class frog  is: 99.2 %\n",
            "Accuracy for class horse is: 95.9 %\n",
            "Accuracy for class ship  is: 98.0 %\n",
            "Accuracy for class truck is: 84.2 %\n"
          ]
        }
      ]
    }
  ]
}