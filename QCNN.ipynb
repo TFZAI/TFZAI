{
  "nbformat": 4,
  "nbformat_minor": 0,
  "metadata": {
    "colab": {
      "name": "QCNN ",
      "provenance": [],
      "authorship_tag": "ABX9TyOhP7tTkprkN0KzzrKbVIGf",
      "include_colab_link": true
    },
    "kernelspec": {
      "name": "python3",
      "display_name": "Python 3"
    },
    "language_info": {
      "name": "python"
    }
  },
  "cells": [
    {
      "cell_type": "markdown",
      "metadata": {
        "id": "view-in-github",
        "colab_type": "text"
      },
      "source": [
        "<a href=\"https://colab.research.google.com/github/TFZAI/TFZAI/blob/main/QCNN.ipynb\" target=\"_parent\"><img src=\"https://colab.research.google.com/assets/colab-badge.svg\" alt=\"Open In Colab\"/></a>"
      ]
    },
    {
      "cell_type": "code",
      "metadata": {
        "colab": {
          "base_uri": "https://localhost:8080/"
        },
        "id": "IvvkWaf4ASYj",
        "outputId": "0e37dc53-b6b7-4c0d-bde8-ef3e602a3fe9"
      },
      "source": [
        "pip install -q tensorflow==2.4.1"
      ],
      "execution_count": 1,
      "outputs": [
        {
          "output_type": "stream",
          "name": "stdout",
          "text": [
            "\u001b[K     |████████████████████████████████| 394.3 MB 13 kB/s \n",
            "\u001b[K     |████████████████████████████████| 2.9 MB 50.4 MB/s \n",
            "\u001b[K     |████████████████████████████████| 3.8 MB 50.9 MB/s \n",
            "\u001b[K     |████████████████████████████████| 462 kB 80.9 MB/s \n",
            "\u001b[?25h"
          ]
        }
      ]
    },
    {
      "cell_type": "code",
      "metadata": {
        "colab": {
          "base_uri": "https://localhost:8080/"
        },
        "id": "aJ2-67TlAriD",
        "outputId": "037bfe53-a267-44d2-c980-0892e2f346b9"
      },
      "source": [
        "pip install -q tensorflow-quantum"
      ],
      "execution_count": 2,
      "outputs": [
        {
          "output_type": "stream",
          "name": "stdout",
          "text": [
            "\u001b[K     |████████████████████████████████| 7.8 MB 4.6 MB/s \n",
            "\u001b[K     |████████████████████████████████| 90 kB 11.4 MB/s \n",
            "\u001b[K     |████████████████████████████████| 5.6 MB 15.4 MB/s \n",
            "\u001b[K     |████████████████████████████████| 90 kB 10.6 MB/s \n",
            "\u001b[K     |████████████████████████████████| 1.3 MB 36.2 MB/s \n",
            "\u001b[K     |████████████████████████████████| 100 kB 8.7 MB/s \n",
            "\u001b[K     |████████████████████████████████| 380 kB 65.7 MB/s \n",
            "\u001b[K     |████████████████████████████████| 1.5 MB 58.5 MB/s \n",
            "\u001b[K     |████████████████████████████████| 93 kB 1.8 MB/s \n",
            "\u001b[K     |████████████████████████████████| 93 kB 1.6 MB/s \n",
            "\u001b[K     |████████████████████████████████| 93 kB 1.6 MB/s \n",
            "\u001b[K     |████████████████████████████████| 93 kB 1.6 MB/s \n",
            "\u001b[K     |████████████████████████████████| 93 kB 1.7 MB/s \n",
            "\u001b[K     |████████████████████████████████| 93 kB 1.4 MB/s \n",
            "\u001b[K     |████████████████████████████████| 92 kB 1.2 MB/s \n",
            "\u001b[K     |████████████████████████████████| 93 kB 1.6 MB/s \n",
            "\u001b[K     |████████████████████████████████| 93 kB 1.4 MB/s \n",
            "\u001b[K     |████████████████████████████████| 92 kB 1.3 MB/s \n",
            "\u001b[K     |████████████████████████████████| 92 kB 1.2 MB/s \n",
            "\u001b[K     |████████████████████████████████| 92 kB 286 kB/s \n",
            "\u001b[K     |████████████████████████████████| 92 kB 200 kB/s \n",
            "\u001b[K     |████████████████████████████████| 92 kB 12.7 MB/s \n",
            "\u001b[K     |████████████████████████████████| 91 kB 12.4 MB/s \n",
            "\u001b[K     |████████████████████████████████| 91 kB 12.3 MB/s \n",
            "\u001b[K     |████████████████████████████████| 91 kB 12.0 MB/s \n",
            "\u001b[K     |████████████████████████████████| 91 kB 12.0 MB/s \n",
            "\u001b[K     |████████████████████████████████| 91 kB 11.6 MB/s \n",
            "\u001b[K     |████████████████████████████████| 91 kB 11.5 MB/s \n",
            "\u001b[K     |████████████████████████████████| 91 kB 11.6 MB/s \n",
            "\u001b[?25h"
          ]
        }
      ]
    },
    {
      "cell_type": "code",
      "metadata": {
        "id": "7gkhtDmbA0DM"
      },
      "source": [
        "import tensorflow as tf\n",
        "import tensorflow_quantum as tfq\n",
        "\n",
        "import cirq\n",
        "import sympy\n",
        "import numpy as np\n",
        "\n",
        "%matplotlib inline\n",
        "import matplotlib.pyplot as plt\n",
        "from cirq.contrib.svg import SVGCircuit"
      ],
      "execution_count": 3,
      "outputs": []
    },
    {
      "cell_type": "code",
      "metadata": {
        "id": "8O_5du1uBC8T"
      },
      "source": [
        "qubit = cirq.GridQubit(0, 0)\n",
        "\n",
        "circuit1 = cirq.Circuit(cirq.X(qubit))\n",
        "circuit2 = cirq.Circuit(cirq.H(qubit))\n",
        "input_circuit_tensor = tfq.convert_to_tensor([circuit1, circuit2])\n",
        "\n",
        "y_circuit = cirq.Circuit(cirq.Y(qubit))\n",
        "\n",
        "y_appender = tfq.layers.AddCircuit()\n",
        "\n",
        "output_circuit_tensor = y_appender(input_circuit_tensor, append=y_circuit)"
      ],
      "execution_count": 5,
      "outputs": []
    },
    {
      "cell_type": "code",
      "metadata": {
        "colab": {
          "base_uri": "https://localhost:8080/"
        },
        "id": "shw5i9FyBsgz",
        "outputId": "3ce9c2a7-1d30-4863-a20e-8a1765503f7f"
      },
      "source": [
        "print(tfq.from_tensor(input_circuit_tensor))"
      ],
      "execution_count": 6,
      "outputs": [
        {
          "output_type": "stream",
          "name": "stdout",
          "text": [
            "[cirq.Circuit([\n",
            "    cirq.Moment(\n",
            "        cirq.X(cirq.GridQubit(0, 0)),\n",
            "    ),\n",
            "])\n",
            " cirq.Circuit([\n",
            "    cirq.Moment(\n",
            "        cirq.H(cirq.GridQubit(0, 0)),\n",
            "    ),\n",
            "])]\n"
          ]
        }
      ]
    },
    {
      "cell_type": "code",
      "metadata": {
        "colab": {
          "base_uri": "https://localhost:8080/"
        },
        "id": "3FrHon7dB_ub",
        "outputId": "dcde3b39-c3f7-434b-ba9d-cad6ca280338"
      },
      "source": [
        "print(tfq.from_tensor(output_circuit_tensor))"
      ],
      "execution_count": 7,
      "outputs": [
        {
          "output_type": "stream",
          "name": "stdout",
          "text": [
            "[cirq.Circuit([\n",
            "    cirq.Moment(\n",
            "        cirq.X(cirq.GridQubit(0, 0)),\n",
            "    ),\n",
            "    cirq.Moment(\n",
            "        cirq.Y(cirq.GridQubit(0, 0)),\n",
            "    ),\n",
            "])\n",
            " cirq.Circuit([\n",
            "    cirq.Moment(\n",
            "        cirq.H(cirq.GridQubit(0, 0)),\n",
            "    ),\n",
            "    cirq.Moment(\n",
            "        cirq.Y(cirq.GridQubit(0, 0)),\n",
            "    ),\n",
            "])]\n"
          ]
        }
      ]
    },
    {
      "cell_type": "code",
      "metadata": {
        "id": "NhX3TTBXDCYm"
      },
      "source": [
        "def generate_data(qubits):\n",
        "    \n",
        "    n_rounds = 20 \n",
        "    excitations = []\n",
        "    labels = []\n",
        "    for n in range(n_rounds):\n",
        "        for bit in qubits:\n",
        "            rng = np.random.uniform(-np.pi, np.pi)\n",
        "            excitations.append(cirq.Circuit(cirq.rx(rng)(bit)))\n",
        "            labels.append(1 if (-np.pi / 2) <= rng <= (np.pi / 2) else -1)\n",
        "\n",
        "    split_ind = int(len(excitations) * 0.7)\n",
        "    train_excitations = excitations[:split_ind]\n",
        "    test_excitations = excitations[split_ind:]\n",
        "\n",
        "    train_labels = labels[:split_ind]\n",
        "    test_labels = labels[split_ind:]\n",
        "\n",
        "    return tfq.convert_to_tensor(train_excitations), np.array(train_labels), \\\n",
        "        tfq.convert_to_tensor(test_excitations), np.array(test_labels)"
      ],
      "execution_count": 8,
      "outputs": []
    },
    {
      "cell_type": "code",
      "metadata": {
        "colab": {
          "base_uri": "https://localhost:8080/"
        },
        "id": "BN4OFPEqDQn-",
        "outputId": "840b97a5-98f2-46d7-814d-9592e0ed5fe9"
      },
      "source": [
        "sample_points, sample_labels, _, __ = generate_data(cirq.GridQubit.rect(1, 4))\n",
        "print('Input:', tfq.from_tensor(sample_points)[0], 'Output:', sample_labels[0])\n",
        "print('Input:', tfq.from_tensor(sample_points)[1], 'Output:', sample_labels[1])"
      ],
      "execution_count": 9,
      "outputs": [
        {
          "output_type": "stream",
          "name": "stdout",
          "text": [
            "Input: (0, 0): ───X^0.359─── Output: 1\n",
            "Input: (0, 1): ───X^0.837─── Output: -1\n"
          ]
        }
      ]
    },
    {
      "cell_type": "code",
      "metadata": {
        "id": "RsxVUX9FDw2G"
      },
      "source": [
        "def cluster_state_circuit(bits):\n",
        "    \n",
        "    circuit = cirq.Circuit()\n",
        "    circuit.append(cirq.H.on_each(bits))\n",
        "    for this_bit, next_bit in zip(bits, bits[1:] + [bits[0]]):\n",
        "        circuit.append(cirq.CZ(this_bit, next_bit))\n",
        "    return circuit"
      ],
      "execution_count": 10,
      "outputs": []
    },
    {
      "cell_type": "code",
      "metadata": {
        "colab": {
          "base_uri": "https://localhost:8080/",
          "height": 238
        },
        "id": "37ypuYvUDzyH",
        "outputId": "3a7d8528-49fb-430d-8bcc-2dcf92f4958f"
      },
      "source": [
        "SVGCircuit(cluster_state_circuit(cirq.GridQubit.rect(1, 4)))"
      ],
      "execution_count": 11,
      "outputs": [
        {
          "output_type": "stream",
          "name": "stderr",
          "text": [
            "findfont: Font family ['Arial'] not found. Falling back to DejaVu Sans.\n"
          ]
        },
        {
          "output_type": "execute_result",
          "data": {
            "text/plain": [
              "<cirq.contrib.svg.svg.SVGCircuit at 0x7ff0d7d0a610>"
            ],
            "image/svg+xml": "<svg xmlns=\"http://www.w3.org/2000/svg\" width=\"409.51773437500003\" height=\"200.0\"><line x1=\"34.7588671875\" x2=\"379.51773437500003\" y1=\"25.0\" y2=\"25.0\" stroke=\"#1967d2\" stroke-width=\"1\" /><line x1=\"34.7588671875\" x2=\"379.51773437500003\" y1=\"75.0\" y2=\"75.0\" stroke=\"#1967d2\" stroke-width=\"1\" /><line x1=\"34.7588671875\" x2=\"379.51773437500003\" y1=\"125.0\" y2=\"125.0\" stroke=\"#1967d2\" stroke-width=\"1\" /><line x1=\"34.7588671875\" x2=\"379.51773437500003\" y1=\"175.0\" y2=\"175.0\" stroke=\"#1967d2\" stroke-width=\"1\" /><line x1=\"159.517734375\" x2=\"159.517734375\" y1=\"25.0\" y2=\"75.0\" stroke=\"black\" stroke-width=\"3\" /><line x1=\"219.517734375\" x2=\"219.517734375\" y1=\"75.0\" y2=\"125.0\" stroke=\"black\" stroke-width=\"3\" /><line x1=\"279.51773437500003\" x2=\"279.51773437500003\" y1=\"125.0\" y2=\"175.0\" stroke=\"black\" stroke-width=\"3\" /><line x1=\"339.51773437500003\" x2=\"339.51773437500003\" y1=\"25.0\" y2=\"175.0\" stroke=\"black\" stroke-width=\"3\" /><rect x=\"10.0\" y=\"5.0\" width=\"49.517734375\" height=\"40\" stroke=\"black\" fill=\"white\" stroke-width=\"0\" /><text x=\"34.7588671875\" y=\"25.0\" dominant-baseline=\"middle\" text-anchor=\"middle\" font-size=\"14px\" font-family=\"Arial\">(0, 0): </text><rect x=\"10.0\" y=\"55.0\" width=\"49.517734375\" height=\"40\" stroke=\"black\" fill=\"white\" stroke-width=\"0\" /><text x=\"34.7588671875\" y=\"75.0\" dominant-baseline=\"middle\" text-anchor=\"middle\" font-size=\"14px\" font-family=\"Arial\">(0, 1): </text><rect x=\"10.0\" y=\"105.0\" width=\"49.517734375\" height=\"40\" stroke=\"black\" fill=\"white\" stroke-width=\"0\" /><text x=\"34.7588671875\" y=\"125.0\" dominant-baseline=\"middle\" text-anchor=\"middle\" font-size=\"14px\" font-family=\"Arial\">(0, 2): </text><rect x=\"10.0\" y=\"155.0\" width=\"49.517734375\" height=\"40\" stroke=\"black\" fill=\"white\" stroke-width=\"0\" /><text x=\"34.7588671875\" y=\"175.0\" dominant-baseline=\"middle\" text-anchor=\"middle\" font-size=\"14px\" font-family=\"Arial\">(0, 3): </text><rect x=\"79.517734375\" y=\"5.0\" width=\"40\" height=\"40\" stroke=\"black\" fill=\"white\" stroke-width=\"1\" /><text x=\"99.517734375\" y=\"25.0\" dominant-baseline=\"middle\" text-anchor=\"middle\" font-size=\"18px\" font-family=\"Arial\">H</text><rect x=\"79.517734375\" y=\"55.0\" width=\"40\" height=\"40\" stroke=\"black\" fill=\"white\" stroke-width=\"1\" /><text x=\"99.517734375\" y=\"75.0\" dominant-baseline=\"middle\" text-anchor=\"middle\" font-size=\"18px\" font-family=\"Arial\">H</text><rect x=\"79.517734375\" y=\"105.0\" width=\"40\" height=\"40\" stroke=\"black\" fill=\"white\" stroke-width=\"1\" /><text x=\"99.517734375\" y=\"125.0\" dominant-baseline=\"middle\" text-anchor=\"middle\" font-size=\"18px\" font-family=\"Arial\">H</text><rect x=\"79.517734375\" y=\"155.0\" width=\"40\" height=\"40\" stroke=\"black\" fill=\"white\" stroke-width=\"1\" /><text x=\"99.517734375\" y=\"175.0\" dominant-baseline=\"middle\" text-anchor=\"middle\" font-size=\"18px\" font-family=\"Arial\">H</text><circle cx=\"159.517734375\" cy=\"25.0\" r=\"10.0\" /><circle cx=\"159.517734375\" cy=\"75.0\" r=\"10.0\" /><circle cx=\"219.517734375\" cy=\"75.0\" r=\"10.0\" /><circle cx=\"219.517734375\" cy=\"125.0\" r=\"10.0\" /><circle cx=\"279.51773437500003\" cy=\"125.0\" r=\"10.0\" /><circle cx=\"279.51773437500003\" cy=\"175.0\" r=\"10.0\" /><circle cx=\"339.51773437500003\" cy=\"175.0\" r=\"10.0\" /><circle cx=\"339.51773437500003\" cy=\"25.0\" r=\"10.0\" /></svg>"
          },
          "metadata": {},
          "execution_count": 11
        }
      ]
    },
    {
      "cell_type": "code",
      "metadata": {
        "id": "LfJFbgVbERqJ"
      },
      "source": [
        "def one_qubit_unitary(bit, symbols):\n",
        "   \n",
        "    return cirq.Circuit(\n",
        "        cirq.X(bit)**symbols[0],\n",
        "        cirq.Y(bit)**symbols[1],\n",
        "        cirq.Z(bit)**symbols[2])\n",
        "\n",
        "\n",
        "def two_qubit_unitary(bits, symbols):\n",
        "    \n",
        "    circuit = cirq.Circuit()\n",
        "    circuit += one_qubit_unitary(bits[0], symbols[0:3])\n",
        "    circuit += one_qubit_unitary(bits[1], symbols[3:6])\n",
        "    circuit += [cirq.ZZ(*bits)**symbols[6]]\n",
        "    circuit += [cirq.YY(*bits)**symbols[7]]\n",
        "    circuit += [cirq.XX(*bits)**symbols[8]]\n",
        "    circuit += one_qubit_unitary(bits[0], symbols[9:12])\n",
        "    circuit += one_qubit_unitary(bits[1], symbols[12:])\n",
        "    return circuit\n",
        "\n",
        "\n",
        "def two_qubit_pool(source_qubit, sink_qubit, symbols):\n",
        "   \n",
        "    pool_circuit = cirq.Circuit()\n",
        "    sink_basis_selector = one_qubit_unitary(sink_qubit, symbols[0:3])\n",
        "    source_basis_selector = one_qubit_unitary(source_qubit, symbols[3:6])\n",
        "    pool_circuit.append(sink_basis_selector)\n",
        "    pool_circuit.append(source_basis_selector)\n",
        "    pool_circuit.append(cirq.CNOT(control=source_qubit, target=sink_qubit))\n",
        "    pool_circuit.append(sink_basis_selector**-1)\n",
        "    return pool_circuit"
      ],
      "execution_count": 12,
      "outputs": []
    },
    {
      "cell_type": "code",
      "metadata": {
        "colab": {
          "base_uri": "https://localhost:8080/",
          "height": 70
        },
        "id": "ayusGu4_EVK4",
        "outputId": "98fba19d-2b5d-486b-9a1f-398ba54a6e1a"
      },
      "source": [
        "SVGCircuit(one_qubit_unitary(cirq.GridQubit(0, 0), sympy.symbols('x0:3')))"
      ],
      "execution_count": 13,
      "outputs": [
        {
          "output_type": "execute_result",
          "data": {
            "text/plain": [
              "<cirq.contrib.svg.svg.SVGCircuit at 0x7ff0d7d8ff10>"
            ],
            "image/svg+xml": "<svg xmlns=\"http://www.w3.org/2000/svg\" width=\"309.3764453125\" height=\"50.0\"><line x1=\"34.7588671875\" x2=\"279.3764453125\" y1=\"25.0\" y2=\"25.0\" stroke=\"#1967d2\" stroke-width=\"1\" /><rect x=\"10.0\" y=\"5.0\" width=\"49.517734375\" height=\"40\" stroke=\"black\" fill=\"white\" stroke-width=\"0\" /><text x=\"34.7588671875\" y=\"25.0\" dominant-baseline=\"middle\" text-anchor=\"middle\" font-size=\"14px\" font-family=\"Arial\">(0, 0): </text><rect x=\"79.517734375\" y=\"5.0\" width=\"47.1664453125\" height=\"40\" stroke=\"black\" fill=\"white\" stroke-width=\"1\" /><text x=\"103.10095703125\" y=\"25.0\" dominant-baseline=\"middle\" text-anchor=\"middle\" font-size=\"14px\" font-family=\"Arial\">X^x0</text><rect x=\"146.6841796875\" y=\"5.0\" width=\"46.2105078125\" height=\"40\" stroke=\"black\" fill=\"white\" stroke-width=\"1\" /><text x=\"169.78943359375\" y=\"25.0\" dominant-baseline=\"middle\" text-anchor=\"middle\" font-size=\"14px\" font-family=\"Arial\">Y^x1</text><rect x=\"212.8946875\" y=\"5.0\" width=\"46.48175781250001\" height=\"40\" stroke=\"black\" fill=\"white\" stroke-width=\"1\" /><text x=\"236.13556640625\" y=\"25.0\" dominant-baseline=\"middle\" text-anchor=\"middle\" font-size=\"14px\" font-family=\"Arial\">Z^x2</text></svg>"
          },
          "metadata": {},
          "execution_count": 13
        }
      ]
    },
    {
      "cell_type": "code",
      "metadata": {
        "colab": {
          "base_uri": "https://localhost:8080/",
          "height": 121
        },
        "id": "YSjFZTloEyZt",
        "outputId": "b00b08f3-4bd7-4b9e-bad6-664a8b8404c8"
      },
      "source": [
        "SVGCircuit(two_qubit_unitary(cirq.GridQubit.rect(1, 2), sympy.symbols('x0:15')))"
      ],
      "execution_count": 14,
      "outputs": [
        {
          "output_type": "execute_result",
          "data": {
            "text/plain": [
              "<cirq.contrib.svg.svg.SVGCircuit at 0x7ff0d7d0a110>"
            ],
            "image/svg+xml": "<svg xmlns=\"http://www.w3.org/2000/svg\" width=\"1182.8964453124997\" height=\"100.0\"><line x1=\"34.7588671875\" x2=\"1152.8964453124997\" y1=\"25.0\" y2=\"25.0\" stroke=\"#1967d2\" stroke-width=\"1\" /><line x1=\"34.7588671875\" x2=\"1152.8964453124997\" y1=\"75.0\" y2=\"75.0\" stroke=\"#1967d2\" stroke-width=\"1\" /><line x1=\"508.0261328125\" x2=\"508.0261328125\" y1=\"25.0\" y2=\"75.0\" stroke=\"black\" stroke-width=\"3\" /><line x1=\"583.7519921875\" x2=\"583.7519921875\" y1=\"25.0\" y2=\"75.0\" stroke=\"black\" stroke-width=\"3\" /><line x1=\"659.5456640625\" x2=\"659.5456640625\" y1=\"25.0\" y2=\"75.0\" stroke=\"black\" stroke-width=\"3\" /><rect x=\"10.0\" y=\"5.0\" width=\"49.517734375\" height=\"40\" stroke=\"black\" fill=\"white\" stroke-width=\"0\" /><text x=\"34.7588671875\" y=\"25.0\" dominant-baseline=\"middle\" text-anchor=\"middle\" font-size=\"14px\" font-family=\"Arial\">(0, 0): </text><rect x=\"10.0\" y=\"55.0\" width=\"49.517734375\" height=\"40\" stroke=\"black\" fill=\"white\" stroke-width=\"0\" /><text x=\"34.7588671875\" y=\"75.0\" dominant-baseline=\"middle\" text-anchor=\"middle\" font-size=\"14px\" font-family=\"Arial\">(0, 1): </text><rect x=\"79.517734375\" y=\"5.0\" width=\"47.1664453125\" height=\"40\" stroke=\"black\" fill=\"white\" stroke-width=\"1\" /><text x=\"103.10095703125\" y=\"25.0\" dominant-baseline=\"middle\" text-anchor=\"middle\" font-size=\"14px\" font-family=\"Arial\">X^x0</text><rect x=\"146.6841796875\" y=\"5.0\" width=\"46.2105078125\" height=\"40\" stroke=\"black\" fill=\"white\" stroke-width=\"1\" /><text x=\"169.78943359375\" y=\"25.0\" dominant-baseline=\"middle\" text-anchor=\"middle\" font-size=\"14px\" font-family=\"Arial\">Y^x1</text><rect x=\"212.8946875\" y=\"5.0\" width=\"46.48175781250001\" height=\"40\" stroke=\"black\" fill=\"white\" stroke-width=\"1\" /><text x=\"236.13556640625\" y=\"25.0\" dominant-baseline=\"middle\" text-anchor=\"middle\" font-size=\"14px\" font-family=\"Arial\">Z^x2</text><rect x=\"279.3764453125\" y=\"55.0\" width=\"46.97394531250001\" height=\"40\" stroke=\"black\" fill=\"white\" stroke-width=\"1\" /><text x=\"302.86341796875\" y=\"75.0\" dominant-baseline=\"middle\" text-anchor=\"middle\" font-size=\"14px\" font-family=\"Arial\">X^x3</text><rect x=\"346.350390625\" y=\"55.0\" width=\"46.718007812500005\" height=\"40\" stroke=\"black\" fill=\"white\" stroke-width=\"1\" /><text x=\"369.70939453125\" y=\"75.0\" dominant-baseline=\"middle\" text-anchor=\"middle\" font-size=\"14px\" font-family=\"Arial\">Y^x4</text><rect x=\"413.0683984375\" y=\"55.0\" width=\"46.6611328125\" height=\"40\" stroke=\"black\" fill=\"white\" stroke-width=\"1\" /><text x=\"436.39896484375\" y=\"75.0\" dominant-baseline=\"middle\" text-anchor=\"middle\" font-size=\"14px\" font-family=\"Arial\">Z^x5</text><rect x=\"479.72953125000004\" y=\"5.0\" width=\"56.593203125\" height=\"40\" stroke=\"black\" fill=\"white\" stroke-width=\"1\" /><text x=\"508.0261328125\" y=\"25.0\" dominant-baseline=\"middle\" text-anchor=\"middle\" font-size=\"14px\" font-family=\"Arial\">ZZ</text><rect x=\"479.72953125000004\" y=\"55.0\" width=\"56.593203125\" height=\"40\" stroke=\"black\" fill=\"white\" stroke-width=\"1\" /><text x=\"508.0261328125\" y=\"75.0\" dominant-baseline=\"middle\" text-anchor=\"middle\" font-size=\"14px\" font-family=\"Arial\">ZZ^x6</text><rect x=\"556.322734375\" y=\"5.0\" width=\"54.85851562500001\" height=\"40\" stroke=\"black\" fill=\"white\" stroke-width=\"1\" /><text x=\"583.7519921875\" y=\"25.0\" dominant-baseline=\"middle\" text-anchor=\"middle\" font-size=\"14px\" font-family=\"Arial\">YY</text><rect x=\"556.322734375\" y=\"55.0\" width=\"54.85851562500001\" height=\"40\" stroke=\"black\" fill=\"white\" stroke-width=\"1\" /><text x=\"583.7519921875\" y=\"75.0\" dominant-baseline=\"middle\" text-anchor=\"middle\" font-size=\"14px\" font-family=\"Arial\">YY^x7</text><rect x=\"631.18125\" y=\"5.0\" width=\"56.72882812500001\" height=\"40\" stroke=\"black\" fill=\"white\" stroke-width=\"1\" /><text x=\"659.5456640625\" y=\"25.0\" dominant-baseline=\"middle\" text-anchor=\"middle\" font-size=\"14px\" font-family=\"Arial\">XX</text><rect x=\"631.18125\" y=\"55.0\" width=\"56.72882812500001\" height=\"40\" stroke=\"black\" fill=\"white\" stroke-width=\"1\" /><text x=\"659.5456640625\" y=\"75.0\" dominant-baseline=\"middle\" text-anchor=\"middle\" font-size=\"14px\" font-family=\"Arial\">XX^x8</text><rect x=\"707.9100781249999\" y=\"5.0\" width=\"47.1117578125\" height=\"40\" stroke=\"black\" fill=\"white\" stroke-width=\"1\" /><text x=\"731.4659570312499\" y=\"25.0\" dominant-baseline=\"middle\" text-anchor=\"middle\" font-size=\"14px\" font-family=\"Arial\">X^x9</text><rect x=\"775.0218359374999\" y=\"5.0\" width=\"55.48085937500001\" height=\"40\" stroke=\"black\" fill=\"white\" stroke-width=\"1\" /><text x=\"802.7622656249998\" y=\"25.0\" dominant-baseline=\"middle\" text-anchor=\"middle\" font-size=\"14px\" font-family=\"Arial\">Y^x10</text><rect x=\"850.5026953124999\" y=\"5.0\" width=\"55.49835937500001\" height=\"40\" stroke=\"black\" fill=\"white\" stroke-width=\"1\" /><text x=\"878.2518749999999\" y=\"25.0\" dominant-baseline=\"middle\" text-anchor=\"middle\" font-size=\"14px\" font-family=\"Arial\">Z^x11</text><rect x=\"926.0010546874998\" y=\"55.0\" width=\"55.601171875000006\" height=\"40\" stroke=\"black\" fill=\"white\" stroke-width=\"1\" /><text x=\"953.8016406249999\" y=\"75.0\" dominant-baseline=\"middle\" text-anchor=\"middle\" font-size=\"14px\" font-family=\"Arial\">X^x12</text><rect x=\"1001.6022265624998\" y=\"55.0\" width=\"55.288359375\" height=\"40\" stroke=\"black\" fill=\"white\" stroke-width=\"1\" /><text x=\"1029.2464062499998\" y=\"75.0\" dominant-baseline=\"middle\" text-anchor=\"middle\" font-size=\"14px\" font-family=\"Arial\">Y^x13</text><rect x=\"1076.8905859374997\" y=\"55.0\" width=\"56.005859375\" height=\"40\" stroke=\"black\" fill=\"white\" stroke-width=\"1\" /><text x=\"1104.8935156249997\" y=\"75.0\" dominant-baseline=\"middle\" text-anchor=\"middle\" font-size=\"14px\" font-family=\"Arial\">Z^x14</text></svg>"
          },
          "metadata": {},
          "execution_count": 14
        }
      ]
    },
    {
      "cell_type": "code",
      "metadata": {
        "id": "hA7lk7L7FGy_"
      },
      "source": [
        "def quantum_conv_circuit(bits, symbols):\n",
        " \n",
        "    circuit = cirq.Circuit()\n",
        "    for first, second in zip(bits[0::2], bits[1::2]):\n",
        "        circuit += two_qubit_unitary([first, second], symbols)\n",
        "    for first, second in zip(bits[1::2], bits[2::2] + [bits[0]]):\n",
        "        circuit += two_qubit_unitary([first, second], symbols)\n",
        "    return circuit"
      ],
      "execution_count": 15,
      "outputs": []
    },
    {
      "cell_type": "code",
      "metadata": {
        "colab": {
          "base_uri": "https://localhost:8080/",
          "height": 190
        },
        "id": "mm6tpfdBFIwh",
        "outputId": "eba4a233-3d48-4025-e91f-7389037550e4"
      },
      "source": [
        "SVGCircuit(\n",
        "    quantum_conv_circuit(cirq.GridQubit.rect(1,3), sympy.symbols('x0:15')))"
      ],
      "execution_count": 19,
      "outputs": [
        {
          "output_type": "execute_result",
          "data": {
            "text/plain": [
              "<cirq.contrib.svg.svg.SVGCircuit at 0x7ff0d7ca5410>"
            ],
            "image/svg+xml": "<svg xmlns=\"http://www.w3.org/2000/svg\" width=\"2256.27515625\" height=\"150.0\"><line x1=\"34.7588671875\" x2=\"2226.27515625\" y1=\"25.0\" y2=\"25.0\" stroke=\"#1967d2\" stroke-width=\"1\" /><line x1=\"34.7588671875\" x2=\"2226.27515625\" y1=\"75.0\" y2=\"75.0\" stroke=\"#1967d2\" stroke-width=\"1\" /><line x1=\"34.7588671875\" x2=\"2226.27515625\" y1=\"125.0\" y2=\"125.0\" stroke=\"#1967d2\" stroke-width=\"1\" /><line x1=\"508.0261328125\" x2=\"508.0261328125\" y1=\"25.0\" y2=\"75.0\" stroke=\"black\" stroke-width=\"3\" /><line x1=\"583.7519921875\" x2=\"583.7519921875\" y1=\"25.0\" y2=\"75.0\" stroke=\"black\" stroke-width=\"3\" /><line x1=\"659.5456640625\" x2=\"659.5456640625\" y1=\"25.0\" y2=\"75.0\" stroke=\"black\" stroke-width=\"3\" /><line x1=\"1581.4048437499998\" x2=\"1581.4048437499998\" y1=\"75.0\" y2=\"125.0\" stroke=\"black\" stroke-width=\"3\" /><line x1=\"1657.1307031249999\" x2=\"1657.1307031249999\" y1=\"75.0\" y2=\"125.0\" stroke=\"black\" stroke-width=\"3\" /><line x1=\"1732.9243749999998\" x2=\"1732.9243749999998\" y1=\"75.0\" y2=\"125.0\" stroke=\"black\" stroke-width=\"3\" /><rect x=\"10.0\" y=\"5.0\" width=\"49.517734375\" height=\"40\" stroke=\"black\" fill=\"white\" stroke-width=\"0\" /><text x=\"34.7588671875\" y=\"25.0\" dominant-baseline=\"middle\" text-anchor=\"middle\" font-size=\"14px\" font-family=\"Arial\">(0, 0): </text><rect x=\"10.0\" y=\"55.0\" width=\"49.517734375\" height=\"40\" stroke=\"black\" fill=\"white\" stroke-width=\"0\" /><text x=\"34.7588671875\" y=\"75.0\" dominant-baseline=\"middle\" text-anchor=\"middle\" font-size=\"14px\" font-family=\"Arial\">(0, 1): </text><rect x=\"10.0\" y=\"105.0\" width=\"49.517734375\" height=\"40\" stroke=\"black\" fill=\"white\" stroke-width=\"0\" /><text x=\"34.7588671875\" y=\"125.0\" dominant-baseline=\"middle\" text-anchor=\"middle\" font-size=\"14px\" font-family=\"Arial\">(0, 2): </text><rect x=\"79.517734375\" y=\"5.0\" width=\"47.1664453125\" height=\"40\" stroke=\"black\" fill=\"white\" stroke-width=\"1\" /><text x=\"103.10095703125\" y=\"25.0\" dominant-baseline=\"middle\" text-anchor=\"middle\" font-size=\"14px\" font-family=\"Arial\">X^x0</text><rect x=\"146.6841796875\" y=\"5.0\" width=\"46.2105078125\" height=\"40\" stroke=\"black\" fill=\"white\" stroke-width=\"1\" /><text x=\"169.78943359375\" y=\"25.0\" dominant-baseline=\"middle\" text-anchor=\"middle\" font-size=\"14px\" font-family=\"Arial\">Y^x1</text><rect x=\"212.8946875\" y=\"5.0\" width=\"46.48175781250001\" height=\"40\" stroke=\"black\" fill=\"white\" stroke-width=\"1\" /><text x=\"236.13556640625\" y=\"25.0\" dominant-baseline=\"middle\" text-anchor=\"middle\" font-size=\"14px\" font-family=\"Arial\">Z^x2</text><rect x=\"279.3764453125\" y=\"55.0\" width=\"46.97394531250001\" height=\"40\" stroke=\"black\" fill=\"white\" stroke-width=\"1\" /><text x=\"302.86341796875\" y=\"75.0\" dominant-baseline=\"middle\" text-anchor=\"middle\" font-size=\"14px\" font-family=\"Arial\">X^x3</text><rect x=\"346.350390625\" y=\"55.0\" width=\"46.718007812500005\" height=\"40\" stroke=\"black\" fill=\"white\" stroke-width=\"1\" /><text x=\"369.70939453125\" y=\"75.0\" dominant-baseline=\"middle\" text-anchor=\"middle\" font-size=\"14px\" font-family=\"Arial\">Y^x4</text><rect x=\"413.0683984375\" y=\"55.0\" width=\"46.6611328125\" height=\"40\" stroke=\"black\" fill=\"white\" stroke-width=\"1\" /><text x=\"436.39896484375\" y=\"75.0\" dominant-baseline=\"middle\" text-anchor=\"middle\" font-size=\"14px\" font-family=\"Arial\">Z^x5</text><rect x=\"479.72953125000004\" y=\"5.0\" width=\"56.593203125\" height=\"40\" stroke=\"black\" fill=\"white\" stroke-width=\"1\" /><text x=\"508.0261328125\" y=\"25.0\" dominant-baseline=\"middle\" text-anchor=\"middle\" font-size=\"14px\" font-family=\"Arial\">ZZ</text><rect x=\"479.72953125000004\" y=\"55.0\" width=\"56.593203125\" height=\"40\" stroke=\"black\" fill=\"white\" stroke-width=\"1\" /><text x=\"508.0261328125\" y=\"75.0\" dominant-baseline=\"middle\" text-anchor=\"middle\" font-size=\"14px\" font-family=\"Arial\">ZZ^x6</text><rect x=\"556.322734375\" y=\"5.0\" width=\"54.85851562500001\" height=\"40\" stroke=\"black\" fill=\"white\" stroke-width=\"1\" /><text x=\"583.7519921875\" y=\"25.0\" dominant-baseline=\"middle\" text-anchor=\"middle\" font-size=\"14px\" font-family=\"Arial\">YY</text><rect x=\"556.322734375\" y=\"55.0\" width=\"54.85851562500001\" height=\"40\" stroke=\"black\" fill=\"white\" stroke-width=\"1\" /><text x=\"583.7519921875\" y=\"75.0\" dominant-baseline=\"middle\" text-anchor=\"middle\" font-size=\"14px\" font-family=\"Arial\">YY^x7</text><rect x=\"631.18125\" y=\"5.0\" width=\"56.72882812500001\" height=\"40\" stroke=\"black\" fill=\"white\" stroke-width=\"1\" /><text x=\"659.5456640625\" y=\"25.0\" dominant-baseline=\"middle\" text-anchor=\"middle\" font-size=\"14px\" font-family=\"Arial\">XX</text><rect x=\"631.18125\" y=\"55.0\" width=\"56.72882812500001\" height=\"40\" stroke=\"black\" fill=\"white\" stroke-width=\"1\" /><text x=\"659.5456640625\" y=\"75.0\" dominant-baseline=\"middle\" text-anchor=\"middle\" font-size=\"14px\" font-family=\"Arial\">XX^x8</text><rect x=\"707.9100781249999\" y=\"5.0\" width=\"47.1117578125\" height=\"40\" stroke=\"black\" fill=\"white\" stroke-width=\"1\" /><text x=\"731.4659570312499\" y=\"25.0\" dominant-baseline=\"middle\" text-anchor=\"middle\" font-size=\"14px\" font-family=\"Arial\">X^x9</text><rect x=\"775.0218359374999\" y=\"5.0\" width=\"55.48085937500001\" height=\"40\" stroke=\"black\" fill=\"white\" stroke-width=\"1\" /><text x=\"802.7622656249998\" y=\"25.0\" dominant-baseline=\"middle\" text-anchor=\"middle\" font-size=\"14px\" font-family=\"Arial\">Y^x10</text><rect x=\"850.5026953124999\" y=\"5.0\" width=\"55.49835937500001\" height=\"40\" stroke=\"black\" fill=\"white\" stroke-width=\"1\" /><text x=\"878.2518749999999\" y=\"25.0\" dominant-baseline=\"middle\" text-anchor=\"middle\" font-size=\"14px\" font-family=\"Arial\">Z^x11</text><rect x=\"926.0010546874998\" y=\"55.0\" width=\"55.601171875000006\" height=\"40\" stroke=\"black\" fill=\"white\" stroke-width=\"1\" /><text x=\"953.8016406249999\" y=\"75.0\" dominant-baseline=\"middle\" text-anchor=\"middle\" font-size=\"14px\" font-family=\"Arial\">X^x12</text><rect x=\"1001.6022265624998\" y=\"55.0\" width=\"55.288359375\" height=\"40\" stroke=\"black\" fill=\"white\" stroke-width=\"1\" /><text x=\"1029.2464062499998\" y=\"75.0\" dominant-baseline=\"middle\" text-anchor=\"middle\" font-size=\"14px\" font-family=\"Arial\">Y^x13</text><rect x=\"1076.8905859374997\" y=\"55.0\" width=\"56.005859375\" height=\"40\" stroke=\"black\" fill=\"white\" stroke-width=\"1\" /><text x=\"1104.8935156249997\" y=\"75.0\" dominant-baseline=\"middle\" text-anchor=\"middle\" font-size=\"14px\" font-family=\"Arial\">Z^x14</text><rect x=\"1152.8964453124997\" y=\"55.0\" width=\"47.1664453125\" height=\"40\" stroke=\"black\" fill=\"white\" stroke-width=\"1\" /><text x=\"1176.4796679687497\" y=\"75.0\" dominant-baseline=\"middle\" text-anchor=\"middle\" font-size=\"14px\" font-family=\"Arial\">X^x0</text><rect x=\"1220.0628906249997\" y=\"55.0\" width=\"46.2105078125\" height=\"40\" stroke=\"black\" fill=\"white\" stroke-width=\"1\" /><text x=\"1243.1681445312497\" y=\"75.0\" dominant-baseline=\"middle\" text-anchor=\"middle\" font-size=\"14px\" font-family=\"Arial\">Y^x1</text><rect x=\"1286.2733984374997\" y=\"55.0\" width=\"46.48175781250001\" height=\"40\" stroke=\"black\" fill=\"white\" stroke-width=\"1\" /><text x=\"1309.5142773437497\" y=\"75.0\" dominant-baseline=\"middle\" text-anchor=\"middle\" font-size=\"14px\" font-family=\"Arial\">Z^x2</text><rect x=\"1352.7551562499998\" y=\"105.0\" width=\"46.97394531250001\" height=\"40\" stroke=\"black\" fill=\"white\" stroke-width=\"1\" /><text x=\"1376.2421289062497\" y=\"125.0\" dominant-baseline=\"middle\" text-anchor=\"middle\" font-size=\"14px\" font-family=\"Arial\">X^x3</text><rect x=\"1419.7291015624999\" y=\"105.0\" width=\"46.718007812500005\" height=\"40\" stroke=\"black\" fill=\"white\" stroke-width=\"1\" /><text x=\"1443.08810546875\" y=\"125.0\" dominant-baseline=\"middle\" text-anchor=\"middle\" font-size=\"14px\" font-family=\"Arial\">Y^x4</text><rect x=\"1486.4471093749999\" y=\"105.0\" width=\"46.6611328125\" height=\"40\" stroke=\"black\" fill=\"white\" stroke-width=\"1\" /><text x=\"1509.7776757812499\" y=\"125.0\" dominant-baseline=\"middle\" text-anchor=\"middle\" font-size=\"14px\" font-family=\"Arial\">Z^x5</text><rect x=\"1553.1082421874999\" y=\"55.0\" width=\"56.593203125\" height=\"40\" stroke=\"black\" fill=\"white\" stroke-width=\"1\" /><text x=\"1581.4048437499998\" y=\"75.0\" dominant-baseline=\"middle\" text-anchor=\"middle\" font-size=\"14px\" font-family=\"Arial\">ZZ</text><rect x=\"1553.1082421874999\" y=\"105.0\" width=\"56.593203125\" height=\"40\" stroke=\"black\" fill=\"white\" stroke-width=\"1\" /><text x=\"1581.4048437499998\" y=\"125.0\" dominant-baseline=\"middle\" text-anchor=\"middle\" font-size=\"14px\" font-family=\"Arial\">ZZ^x6</text><rect x=\"1629.7014453124998\" y=\"55.0\" width=\"54.85851562500001\" height=\"40\" stroke=\"black\" fill=\"white\" stroke-width=\"1\" /><text x=\"1657.1307031249999\" y=\"75.0\" dominant-baseline=\"middle\" text-anchor=\"middle\" font-size=\"14px\" font-family=\"Arial\">YY</text><rect x=\"1629.7014453124998\" y=\"105.0\" width=\"54.85851562500001\" height=\"40\" stroke=\"black\" fill=\"white\" stroke-width=\"1\" /><text x=\"1657.1307031249999\" y=\"125.0\" dominant-baseline=\"middle\" text-anchor=\"middle\" font-size=\"14px\" font-family=\"Arial\">YY^x7</text><rect x=\"1704.5599609375\" y=\"55.0\" width=\"56.72882812500001\" height=\"40\" stroke=\"black\" fill=\"white\" stroke-width=\"1\" /><text x=\"1732.9243749999998\" y=\"75.0\" dominant-baseline=\"middle\" text-anchor=\"middle\" font-size=\"14px\" font-family=\"Arial\">XX</text><rect x=\"1704.5599609375\" y=\"105.0\" width=\"56.72882812500001\" height=\"40\" stroke=\"black\" fill=\"white\" stroke-width=\"1\" /><text x=\"1732.9243749999998\" y=\"125.0\" dominant-baseline=\"middle\" text-anchor=\"middle\" font-size=\"14px\" font-family=\"Arial\">XX^x8</text><rect x=\"1781.2887890625\" y=\"55.0\" width=\"47.1117578125\" height=\"40\" stroke=\"black\" fill=\"white\" stroke-width=\"1\" /><text x=\"1804.84466796875\" y=\"75.0\" dominant-baseline=\"middle\" text-anchor=\"middle\" font-size=\"14px\" font-family=\"Arial\">X^x9</text><rect x=\"1848.400546875\" y=\"55.0\" width=\"55.48085937500001\" height=\"40\" stroke=\"black\" fill=\"white\" stroke-width=\"1\" /><text x=\"1876.1409765624999\" y=\"75.0\" dominant-baseline=\"middle\" text-anchor=\"middle\" font-size=\"14px\" font-family=\"Arial\">Y^x10</text><rect x=\"1923.8814062499998\" y=\"55.0\" width=\"55.49835937500001\" height=\"40\" stroke=\"black\" fill=\"white\" stroke-width=\"1\" /><text x=\"1951.6305859374997\" y=\"75.0\" dominant-baseline=\"middle\" text-anchor=\"middle\" font-size=\"14px\" font-family=\"Arial\">Z^x11</text><rect x=\"1999.379765625\" y=\"105.0\" width=\"55.601171875000006\" height=\"40\" stroke=\"black\" fill=\"white\" stroke-width=\"1\" /><text x=\"2027.1803515625\" y=\"125.0\" dominant-baseline=\"middle\" text-anchor=\"middle\" font-size=\"14px\" font-family=\"Arial\">X^x12</text><rect x=\"2074.9809375\" y=\"105.0\" width=\"55.288359375\" height=\"40\" stroke=\"black\" fill=\"white\" stroke-width=\"1\" /><text x=\"2102.6251171875\" y=\"125.0\" dominant-baseline=\"middle\" text-anchor=\"middle\" font-size=\"14px\" font-family=\"Arial\">Y^x13</text><rect x=\"2150.269296875\" y=\"105.0\" width=\"56.005859375\" height=\"40\" stroke=\"black\" fill=\"white\" stroke-width=\"1\" /><text x=\"2178.2722265625\" y=\"125.0\" dominant-baseline=\"middle\" text-anchor=\"middle\" font-size=\"14px\" font-family=\"Arial\">Z^x14</text></svg>"
          },
          "metadata": {},
          "execution_count": 19
        }
      ]
    },
    {
      "cell_type": "code",
      "metadata": {
        "id": "6k7gUzSRFZrz"
      },
      "source": [
        "def quantum_pool_circuit(source_bits, sink_bits, symbols):\n",
        " \n",
        "    circuit = cirq.Circuit()\n",
        "    for source, sink in zip(source_bits, sink_bits):\n",
        "        circuit += two_qubit_pool(source, sink, symbols)\n",
        "    return circuit"
      ],
      "execution_count": 20,
      "outputs": []
    },
    {
      "cell_type": "code",
      "metadata": {
        "colab": {
          "base_uri": "https://localhost:8080/",
          "height": 441
        },
        "id": "6w8vpYyBF54I",
        "outputId": "b9b8c12a-5c99-480d-e31f-4e413cfcf198"
      },
      "source": [
        "test_bits = cirq.GridQubit.rect(1, 8)\n",
        "\n",
        "SVGCircuit(\n",
        "    quantum_pool_circuit(test_bits[:4], test_bits[4:], sympy.symbols('x0:6')))"
      ],
      "execution_count": 21,
      "outputs": [
        {
          "output_type": "execute_result",
          "data": {
            "text/plain": [
              "<cirq.contrib.svg.svg.SVGCircuit at 0x7ff0d7cad810>"
            ],
            "image/svg+xml": "<svg xmlns=\"http://www.w3.org/2000/svg\" width=\"2941.5680468749997\" height=\"400.0\"><line x1=\"34.7588671875\" x2=\"2911.5680468749997\" y1=\"25.0\" y2=\"25.0\" stroke=\"#1967d2\" stroke-width=\"1\" /><line x1=\"34.7588671875\" x2=\"2911.5680468749997\" y1=\"75.0\" y2=\"75.0\" stroke=\"#1967d2\" stroke-width=\"1\" /><line x1=\"34.7588671875\" x2=\"2911.5680468749997\" y1=\"125.0\" y2=\"125.0\" stroke=\"#1967d2\" stroke-width=\"1\" /><line x1=\"34.7588671875\" x2=\"2911.5680468749997\" y1=\"175.0\" y2=\"175.0\" stroke=\"#1967d2\" stroke-width=\"1\" /><line x1=\"34.7588671875\" x2=\"2911.5680468749997\" y1=\"225.0\" y2=\"225.0\" stroke=\"#1967d2\" stroke-width=\"1\" /><line x1=\"34.7588671875\" x2=\"2911.5680468749997\" y1=\"275.0\" y2=\"275.0\" stroke=\"#1967d2\" stroke-width=\"1\" /><line x1=\"34.7588671875\" x2=\"2911.5680468749997\" y1=\"325.0\" y2=\"325.0\" stroke=\"#1967d2\" stroke-width=\"1\" /><line x1=\"34.7588671875\" x2=\"2911.5680468749997\" y1=\"375.0\" y2=\"375.0\" stroke=\"#1967d2\" stroke-width=\"1\" /><line x1=\"499.72953125\" x2=\"499.72953125\" y1=\"25.0\" y2=\"225.0\" stroke=\"black\" stroke-width=\"3\" /><line x1=\"1207.7421093750002\" x2=\"1207.7421093750002\" y1=\"75.0\" y2=\"275.0\" stroke=\"black\" stroke-width=\"3\" /><line x1=\"1915.7546875\" x2=\"1915.7546875\" y1=\"125.0\" y2=\"325.0\" stroke=\"black\" stroke-width=\"3\" /><line x1=\"2623.7672656249997\" x2=\"2623.7672656249997\" y1=\"175.0\" y2=\"375.0\" stroke=\"black\" stroke-width=\"3\" /><rect x=\"10.0\" y=\"5.0\" width=\"49.517734375\" height=\"40\" stroke=\"black\" fill=\"white\" stroke-width=\"0\" /><text x=\"34.7588671875\" y=\"25.0\" dominant-baseline=\"middle\" text-anchor=\"middle\" font-size=\"14px\" font-family=\"Arial\">(0, 0): </text><rect x=\"10.0\" y=\"55.0\" width=\"49.517734375\" height=\"40\" stroke=\"black\" fill=\"white\" stroke-width=\"0\" /><text x=\"34.7588671875\" y=\"75.0\" dominant-baseline=\"middle\" text-anchor=\"middle\" font-size=\"14px\" font-family=\"Arial\">(0, 1): </text><rect x=\"10.0\" y=\"105.0\" width=\"49.517734375\" height=\"40\" stroke=\"black\" fill=\"white\" stroke-width=\"0\" /><text x=\"34.7588671875\" y=\"125.0\" dominant-baseline=\"middle\" text-anchor=\"middle\" font-size=\"14px\" font-family=\"Arial\">(0, 2): </text><rect x=\"10.0\" y=\"155.0\" width=\"49.517734375\" height=\"40\" stroke=\"black\" fill=\"white\" stroke-width=\"0\" /><text x=\"34.7588671875\" y=\"175.0\" dominant-baseline=\"middle\" text-anchor=\"middle\" font-size=\"14px\" font-family=\"Arial\">(0, 3): </text><rect x=\"10.0\" y=\"205.0\" width=\"49.517734375\" height=\"40\" stroke=\"black\" fill=\"white\" stroke-width=\"0\" /><text x=\"34.7588671875\" y=\"225.0\" dominant-baseline=\"middle\" text-anchor=\"middle\" font-size=\"14px\" font-family=\"Arial\">(0, 4): </text><rect x=\"10.0\" y=\"255.0\" width=\"49.517734375\" height=\"40\" stroke=\"black\" fill=\"white\" stroke-width=\"0\" /><text x=\"34.7588671875\" y=\"275.0\" dominant-baseline=\"middle\" text-anchor=\"middle\" font-size=\"14px\" font-family=\"Arial\">(0, 5): </text><rect x=\"10.0\" y=\"305.0\" width=\"49.517734375\" height=\"40\" stroke=\"black\" fill=\"white\" stroke-width=\"0\" /><text x=\"34.7588671875\" y=\"325.0\" dominant-baseline=\"middle\" text-anchor=\"middle\" font-size=\"14px\" font-family=\"Arial\">(0, 6): </text><rect x=\"10.0\" y=\"355.0\" width=\"49.517734375\" height=\"40\" stroke=\"black\" fill=\"white\" stroke-width=\"0\" /><text x=\"34.7588671875\" y=\"375.0\" dominant-baseline=\"middle\" text-anchor=\"middle\" font-size=\"14px\" font-family=\"Arial\">(0, 7): </text><rect x=\"79.517734375\" y=\"205.0\" width=\"47.1664453125\" height=\"40\" stroke=\"black\" fill=\"white\" stroke-width=\"1\" /><text x=\"103.10095703125\" y=\"225.0\" dominant-baseline=\"middle\" text-anchor=\"middle\" font-size=\"14px\" font-family=\"Arial\">X^x0</text><rect x=\"146.6841796875\" y=\"205.0\" width=\"46.2105078125\" height=\"40\" stroke=\"black\" fill=\"white\" stroke-width=\"1\" /><text x=\"169.78943359375\" y=\"225.0\" dominant-baseline=\"middle\" text-anchor=\"middle\" font-size=\"14px\" font-family=\"Arial\">Y^x1</text><rect x=\"212.8946875\" y=\"205.0\" width=\"46.48175781250001\" height=\"40\" stroke=\"black\" fill=\"white\" stroke-width=\"1\" /><text x=\"236.13556640625\" y=\"225.0\" dominant-baseline=\"middle\" text-anchor=\"middle\" font-size=\"14px\" font-family=\"Arial\">Z^x2</text><rect x=\"279.3764453125\" y=\"5.0\" width=\"46.97394531250001\" height=\"40\" stroke=\"black\" fill=\"white\" stroke-width=\"1\" /><text x=\"302.86341796875\" y=\"25.0\" dominant-baseline=\"middle\" text-anchor=\"middle\" font-size=\"14px\" font-family=\"Arial\">X^x3</text><rect x=\"346.350390625\" y=\"5.0\" width=\"46.718007812500005\" height=\"40\" stroke=\"black\" fill=\"white\" stroke-width=\"1\" /><text x=\"369.70939453125\" y=\"25.0\" dominant-baseline=\"middle\" text-anchor=\"middle\" font-size=\"14px\" font-family=\"Arial\">Y^x4</text><rect x=\"413.0683984375\" y=\"5.0\" width=\"46.6611328125\" height=\"40\" stroke=\"black\" fill=\"white\" stroke-width=\"1\" /><text x=\"436.39896484375\" y=\"25.0\" dominant-baseline=\"middle\" text-anchor=\"middle\" font-size=\"14px\" font-family=\"Arial\">Z^x5</text><circle cx=\"499.72953125\" cy=\"25.0\" r=\"10.0\" /><rect x=\"479.72953125\" y=\"205.0\" width=\"40\" height=\"40\" stroke=\"black\" fill=\"white\" stroke-width=\"1\" /><text x=\"499.72953125\" y=\"225.0\" dominant-baseline=\"middle\" text-anchor=\"middle\" font-size=\"18px\" font-family=\"Arial\">X</text><rect x=\"539.72953125\" y=\"205.0\" width=\"62.65640625\" height=\"40\" stroke=\"black\" fill=\"white\" stroke-width=\"1\" /><text x=\"571.057734375\" y=\"225.0\" dominant-baseline=\"middle\" text-anchor=\"middle\" font-size=\"14px\" font-family=\"Arial\">Z^(-x2)</text><rect x=\"622.3859375000001\" y=\"205.0\" width=\"62.27578125000001\" height=\"40\" stroke=\"black\" fill=\"white\" stroke-width=\"1\" /><text x=\"653.523828125\" y=\"225.0\" dominant-baseline=\"middle\" text-anchor=\"middle\" font-size=\"14px\" font-family=\"Arial\">Y^(-x1)</text><rect x=\"704.6617187500001\" y=\"205.0\" width=\"62.86859375\" height=\"40\" stroke=\"black\" fill=\"white\" stroke-width=\"1\" /><text x=\"736.0960156250001\" y=\"225.0\" dominant-baseline=\"middle\" text-anchor=\"middle\" font-size=\"14px\" font-family=\"Arial\">X^(-x0)</text><rect x=\"787.5303125\" y=\"255.0\" width=\"47.1664453125\" height=\"40\" stroke=\"black\" fill=\"white\" stroke-width=\"1\" /><text x=\"811.11353515625\" y=\"275.0\" dominant-baseline=\"middle\" text-anchor=\"middle\" font-size=\"14px\" font-family=\"Arial\">X^x0</text><rect x=\"854.6967578125\" y=\"255.0\" width=\"46.2105078125\" height=\"40\" stroke=\"black\" fill=\"white\" stroke-width=\"1\" /><text x=\"877.80201171875\" y=\"275.0\" dominant-baseline=\"middle\" text-anchor=\"middle\" font-size=\"14px\" font-family=\"Arial\">Y^x1</text><rect x=\"920.907265625\" y=\"255.0\" width=\"46.48175781250001\" height=\"40\" stroke=\"black\" fill=\"white\" stroke-width=\"1\" /><text x=\"944.1481445312501\" y=\"275.0\" dominant-baseline=\"middle\" text-anchor=\"middle\" font-size=\"14px\" font-family=\"Arial\">Z^x2</text><rect x=\"987.3890234375001\" y=\"55.0\" width=\"46.97394531250001\" height=\"40\" stroke=\"black\" fill=\"white\" stroke-width=\"1\" /><text x=\"1010.8759960937501\" y=\"75.0\" dominant-baseline=\"middle\" text-anchor=\"middle\" font-size=\"14px\" font-family=\"Arial\">X^x3</text><rect x=\"1054.3629687500002\" y=\"55.0\" width=\"46.718007812500005\" height=\"40\" stroke=\"black\" fill=\"white\" stroke-width=\"1\" /><text x=\"1077.7219726562503\" y=\"75.0\" dominant-baseline=\"middle\" text-anchor=\"middle\" font-size=\"14px\" font-family=\"Arial\">Y^x4</text><rect x=\"1121.0809765625002\" y=\"55.0\" width=\"46.6611328125\" height=\"40\" stroke=\"black\" fill=\"white\" stroke-width=\"1\" /><text x=\"1144.4115429687502\" y=\"75.0\" dominant-baseline=\"middle\" text-anchor=\"middle\" font-size=\"14px\" font-family=\"Arial\">Z^x5</text><circle cx=\"1207.7421093750002\" cy=\"75.0\" r=\"10.0\" /><rect x=\"1187.7421093750002\" y=\"255.0\" width=\"40\" height=\"40\" stroke=\"black\" fill=\"white\" stroke-width=\"1\" /><text x=\"1207.7421093750002\" y=\"275.0\" dominant-baseline=\"middle\" text-anchor=\"middle\" font-size=\"18px\" font-family=\"Arial\">X</text><rect x=\"1247.7421093750002\" y=\"255.0\" width=\"62.65640625\" height=\"40\" stroke=\"black\" fill=\"white\" stroke-width=\"1\" /><text x=\"1279.0703125000002\" y=\"275.0\" dominant-baseline=\"middle\" text-anchor=\"middle\" font-size=\"14px\" font-family=\"Arial\">Z^(-x2)</text><rect x=\"1330.398515625\" y=\"255.0\" width=\"62.27578125000001\" height=\"40\" stroke=\"black\" fill=\"white\" stroke-width=\"1\" /><text x=\"1361.53640625\" y=\"275.0\" dominant-baseline=\"middle\" text-anchor=\"middle\" font-size=\"14px\" font-family=\"Arial\">Y^(-x1)</text><rect x=\"1412.674296875\" y=\"255.0\" width=\"62.86859375\" height=\"40\" stroke=\"black\" fill=\"white\" stroke-width=\"1\" /><text x=\"1444.10859375\" y=\"275.0\" dominant-baseline=\"middle\" text-anchor=\"middle\" font-size=\"14px\" font-family=\"Arial\">X^(-x0)</text><rect x=\"1495.542890625\" y=\"305.0\" width=\"47.1664453125\" height=\"40\" stroke=\"black\" fill=\"white\" stroke-width=\"1\" /><text x=\"1519.12611328125\" y=\"325.0\" dominant-baseline=\"middle\" text-anchor=\"middle\" font-size=\"14px\" font-family=\"Arial\">X^x0</text><rect x=\"1562.7093359374999\" y=\"305.0\" width=\"46.2105078125\" height=\"40\" stroke=\"black\" fill=\"white\" stroke-width=\"1\" /><text x=\"1585.81458984375\" y=\"325.0\" dominant-baseline=\"middle\" text-anchor=\"middle\" font-size=\"14px\" font-family=\"Arial\">Y^x1</text><rect x=\"1628.91984375\" y=\"305.0\" width=\"46.48175781250001\" height=\"40\" stroke=\"black\" fill=\"white\" stroke-width=\"1\" /><text x=\"1652.1607226562498\" y=\"325.0\" dominant-baseline=\"middle\" text-anchor=\"middle\" font-size=\"14px\" font-family=\"Arial\">Z^x2</text><rect x=\"1695.4016015625\" y=\"105.0\" width=\"46.97394531250001\" height=\"40\" stroke=\"black\" fill=\"white\" stroke-width=\"1\" /><text x=\"1718.88857421875\" y=\"125.0\" dominant-baseline=\"middle\" text-anchor=\"middle\" font-size=\"14px\" font-family=\"Arial\">X^x3</text><rect x=\"1762.375546875\" y=\"105.0\" width=\"46.718007812500005\" height=\"40\" stroke=\"black\" fill=\"white\" stroke-width=\"1\" /><text x=\"1785.7345507812502\" y=\"125.0\" dominant-baseline=\"middle\" text-anchor=\"middle\" font-size=\"14px\" font-family=\"Arial\">Y^x4</text><rect x=\"1829.0935546875\" y=\"105.0\" width=\"46.6611328125\" height=\"40\" stroke=\"black\" fill=\"white\" stroke-width=\"1\" /><text x=\"1852.42412109375\" y=\"125.0\" dominant-baseline=\"middle\" text-anchor=\"middle\" font-size=\"14px\" font-family=\"Arial\">Z^x5</text><circle cx=\"1915.7546875\" cy=\"125.0\" r=\"10.0\" /><rect x=\"1895.7546875\" y=\"305.0\" width=\"40\" height=\"40\" stroke=\"black\" fill=\"white\" stroke-width=\"1\" /><text x=\"1915.7546875\" y=\"325.0\" dominant-baseline=\"middle\" text-anchor=\"middle\" font-size=\"18px\" font-family=\"Arial\">X</text><rect x=\"1955.7546875\" y=\"305.0\" width=\"62.65640625\" height=\"40\" stroke=\"black\" fill=\"white\" stroke-width=\"1\" /><text x=\"1987.0828906250001\" y=\"325.0\" dominant-baseline=\"middle\" text-anchor=\"middle\" font-size=\"14px\" font-family=\"Arial\">Z^(-x2)</text><rect x=\"2038.4110937500002\" y=\"305.0\" width=\"62.27578125000001\" height=\"40\" stroke=\"black\" fill=\"white\" stroke-width=\"1\" /><text x=\"2069.548984375\" y=\"325.0\" dominant-baseline=\"middle\" text-anchor=\"middle\" font-size=\"14px\" font-family=\"Arial\">Y^(-x1)</text><rect x=\"2120.686875\" y=\"305.0\" width=\"62.86859375\" height=\"40\" stroke=\"black\" fill=\"white\" stroke-width=\"1\" /><text x=\"2152.121171875\" y=\"325.0\" dominant-baseline=\"middle\" text-anchor=\"middle\" font-size=\"14px\" font-family=\"Arial\">X^(-x0)</text><rect x=\"2203.55546875\" y=\"355.0\" width=\"47.1664453125\" height=\"40\" stroke=\"black\" fill=\"white\" stroke-width=\"1\" /><text x=\"2227.13869140625\" y=\"375.0\" dominant-baseline=\"middle\" text-anchor=\"middle\" font-size=\"14px\" font-family=\"Arial\">X^x0</text><rect x=\"2270.7219140624998\" y=\"355.0\" width=\"46.2105078125\" height=\"40\" stroke=\"black\" fill=\"white\" stroke-width=\"1\" /><text x=\"2293.8271679687496\" y=\"375.0\" dominant-baseline=\"middle\" text-anchor=\"middle\" font-size=\"14px\" font-family=\"Arial\">Y^x1</text><rect x=\"2336.932421875\" y=\"355.0\" width=\"46.48175781250001\" height=\"40\" stroke=\"black\" fill=\"white\" stroke-width=\"1\" /><text x=\"2360.17330078125\" y=\"375.0\" dominant-baseline=\"middle\" text-anchor=\"middle\" font-size=\"14px\" font-family=\"Arial\">Z^x2</text><rect x=\"2403.4141796874997\" y=\"155.0\" width=\"46.97394531250001\" height=\"40\" stroke=\"black\" fill=\"white\" stroke-width=\"1\" /><text x=\"2426.90115234375\" y=\"175.0\" dominant-baseline=\"middle\" text-anchor=\"middle\" font-size=\"14px\" font-family=\"Arial\">X^x3</text><rect x=\"2470.3881249999995\" y=\"155.0\" width=\"46.718007812500005\" height=\"40\" stroke=\"black\" fill=\"white\" stroke-width=\"1\" /><text x=\"2493.7471289062496\" y=\"175.0\" dominant-baseline=\"middle\" text-anchor=\"middle\" font-size=\"14px\" font-family=\"Arial\">Y^x4</text><rect x=\"2537.1061328124997\" y=\"155.0\" width=\"46.6611328125\" height=\"40\" stroke=\"black\" fill=\"white\" stroke-width=\"1\" /><text x=\"2560.4366992187497\" y=\"175.0\" dominant-baseline=\"middle\" text-anchor=\"middle\" font-size=\"14px\" font-family=\"Arial\">Z^x5</text><circle cx=\"2623.7672656249997\" cy=\"175.0\" r=\"10.0\" /><rect x=\"2603.7672656249997\" y=\"355.0\" width=\"40\" height=\"40\" stroke=\"black\" fill=\"white\" stroke-width=\"1\" /><text x=\"2623.7672656249997\" y=\"375.0\" dominant-baseline=\"middle\" text-anchor=\"middle\" font-size=\"18px\" font-family=\"Arial\">X</text><rect x=\"2663.7672656249997\" y=\"355.0\" width=\"62.65640625\" height=\"40\" stroke=\"black\" fill=\"white\" stroke-width=\"1\" /><text x=\"2695.09546875\" y=\"375.0\" dominant-baseline=\"middle\" text-anchor=\"middle\" font-size=\"14px\" font-family=\"Arial\">Z^(-x2)</text><rect x=\"2746.423671875\" y=\"355.0\" width=\"62.27578125000001\" height=\"40\" stroke=\"black\" fill=\"white\" stroke-width=\"1\" /><text x=\"2777.5615625\" y=\"375.0\" dominant-baseline=\"middle\" text-anchor=\"middle\" font-size=\"14px\" font-family=\"Arial\">Y^(-x1)</text><rect x=\"2828.6994531249998\" y=\"355.0\" width=\"62.86859375\" height=\"40\" stroke=\"black\" fill=\"white\" stroke-width=\"1\" /><text x=\"2860.13375\" y=\"375.0\" dominant-baseline=\"middle\" text-anchor=\"middle\" font-size=\"14px\" font-family=\"Arial\">X^(-x0)</text></svg>"
          },
          "metadata": {},
          "execution_count": 21
        }
      ]
    },
    {
      "cell_type": "code",
      "metadata": {
        "colab": {
          "base_uri": "https://localhost:8080/",
          "height": 232
        },
        "id": "KaC67D0XGfUX",
        "outputId": "fb1bfe16-c601-424b-b0ee-9116b0f68a9a"
      },
      "source": [
        "def create_model_circuit(qubits):\n",
        "    \n",
        "    model_circuit = cirq.Circuit()\n",
        "    symbols = sympy.symbols('qconv0:63')\n",
        "    \n",
        "    model_circuit += quantum_conv_circuit(qubits, symbols[0:15])\n",
        "    model_circuit += quantum_pool_circuit(qubits[:4], qubits[4:],\n",
        "                                          symbols[15:21])\n",
        "    model_circuit += quantum_conv_circuit(qubits[4:], symbols[21:36])\n",
        "    model_circuit += quantum_pool_circuit(qubits[4:6], qubits[6:],\n",
        "                                          symbols[36:42])\n",
        "    model_circuit += quantum_conv_circuit(qubits[6:], symbols[42:57])\n",
        "    model_circuit += quantum_pool_circuit([qubits[6]], [qubits[7]],\n",
        "                                          symbols[57:63])\n",
        "    return model_circuit\n",
        "\n",
        "\n",
        "\n",
        "cluster_state_bits = cirq.GridQubit.rect(1, 8)\n",
        "readout_operators = cirq.Z(cluster_state_bits[-1])\n",
        "\n",
        "\n",
        "excitation_input = tf.keras.Input(shape=(), dtype=tf.dtypes.string)\n",
        "cluster_state = tfq.layers.AddCircuit()(\n",
        "    excitation_input, prepend=cluster_state_circuit(cluster_state_bits))\n",
        "\n",
        "quantum_model = tfq.layers.PQC(create_model_circuit(cluster_state_bits),\n",
        "                               readout_operators)(cluster_state)\n",
        "\n",
        "qcnn_model = tf.keras.Model(inputs=[excitation_input], outputs=[quantum_model])\n",
        "\n",
        "\n",
        "tf.keras.utils.plot_model(qcnn_model,\n",
        "                          show_shapes=True,\n",
        "                          show_layer_names=False,\n",
        "                          dpi=70)\n"
      ],
      "execution_count": 22,
      "outputs": [
        {
          "output_type": "execute_result",
          "data": {
            "image/png": "[encoded data removed]",
            "text/plain": [
              "<IPython.core.display.Image object>"
            ]
          },
          "metadata": {},
          "execution_count": 22
        }
      ]
    },
    {
      "cell_type": "code",
      "metadata": {
        "colab": {
          "base_uri": "https://localhost:8080/",
          "height": 393
        },
        "id": "kqqbIMtDLYx3",
        "outputId": "f24b4db0-d332-4727-9b07-f06b603f4099"
      },
      "source": [
        "# 1-local operators to read out\n",
        "readouts = [cirq.Z(bit) for bit in cluster_state_bits[4:]]\n",
        "\n",
        "\n",
        "def multi_readout_model_circuit(qubits):\n",
        "    \"\"\"Make a model circuit with less quantum pool and conv operations.\"\"\"\n",
        "    model_circuit = cirq.Circuit()\n",
        "    symbols = sympy.symbols('qconv0:21')\n",
        "    model_circuit += quantum_conv_circuit(qubits, symbols[0:15])\n",
        "    model_circuit += quantum_pool_circuit(qubits[:4], qubits[4:],\n",
        "                                          symbols[15:21])\n",
        "    return model_circuit\n",
        "\n",
        "\n",
        "# Build a model enacting the logic in 2.1 of this notebook.\n",
        "excitation_input_dual = tf.keras.Input(shape=(), dtype=tf.dtypes.string)\n",
        "\n",
        "cluster_state_dual = tfq.layers.AddCircuit()(\n",
        "    excitation_input_dual, prepend=cluster_state_circuit(cluster_state_bits))\n",
        "\n",
        "quantum_model_dual = tfq.layers.PQC(\n",
        "    multi_readout_model_circuit(cluster_state_bits),\n",
        "    readouts)(cluster_state_dual)\n",
        "\n",
        "d1_dual = tf.keras.layers.Dense(8)(quantum_model_dual)\n",
        "\n",
        "d2_dual = tf.keras.layers.Dense(1)(d1_dual)\n",
        "\n",
        "hybrid_model = tf.keras.Model(inputs=[excitation_input_dual], outputs=[d2_dual])\n",
        "\n",
        "# Display the model architecture\n",
        "tf.keras.utils.plot_model(hybrid_model,\n",
        "                          show_shapes=True,\n",
        "                          show_layer_names=False,\n",
        "                          dpi=70)"
      ],
      "execution_count": 24,
      "outputs": [
        {
          "output_type": "execute_result",
          "data": {
            "image/png": "[encoded data removed]",
            "text/plain": [
              "<IPython.core.display.Image object>"
            ]
          },
          "metadata": {},
          "execution_count": 24
        }
      ]
    },
    {
      "cell_type": "code",
      "metadata": {
        "colab": {
          "base_uri": "https://localhost:8080/"
        },
        "id": "Z6k8_h8rLctY",
        "outputId": "2bcd1608-85e2-42c9-b838-e12b9627d9f0"
      },
      "source": [
        "hybrid_model.compile(optimizer=tf.keras.optimizers.Adam(learning_rate=0.02),\n",
        "                     loss=tf.losses.mse,\n",
        "                     metrics=[custom_accuracy])\n",
        "\n",
        "hybrid_history = hybrid_model.fit(x=train_excitations,\n",
        "                                  y=train_labels,\n",
        "                                  batch_size=16,\n",
        "                                  epochs=25,\n",
        "                                  verbose=1,\n",
        "                                  validation_data=(test_excitations,\n",
        "                                                   test_labels))"
      ],
      "execution_count": 25,
      "outputs": [
        {
          "output_type": "stream",
          "name": "stdout",
          "text": [
            "Epoch 1/25\n",
            "7/7 [==============================] - 1s 139ms/step - loss: 0.9967 - custom_accuracy: 0.5034 - val_loss: 0.8231 - val_custom_accuracy: 0.7500\n",
            "Epoch 2/25\n",
            "7/7 [==============================] - 1s 109ms/step - loss: 0.7807 - custom_accuracy: 0.8606 - val_loss: 0.5077 - val_custom_accuracy: 0.8750\n",
            "Epoch 3/25\n",
            "7/7 [==============================] - 1s 108ms/step - loss: 0.4375 - custom_accuracy: 0.8690 - val_loss: 0.3769 - val_custom_accuracy: 0.9167\n",
            "Epoch 4/25\n",
            "7/7 [==============================] - 1s 105ms/step - loss: 0.2542 - custom_accuracy: 0.9528 - val_loss: 0.2818 - val_custom_accuracy: 0.9375\n",
            "Epoch 5/25\n",
            "7/7 [==============================] - 1s 104ms/step - loss: 0.1569 - custom_accuracy: 0.9894 - val_loss: 0.2294 - val_custom_accuracy: 0.9792\n",
            "Epoch 6/25\n",
            "7/7 [==============================] - 1s 104ms/step - loss: 0.1676 - custom_accuracy: 0.9751 - val_loss: 0.1797 - val_custom_accuracy: 1.0000\n",
            "Epoch 7/25\n",
            "7/7 [==============================] - 1s 110ms/step - loss: 0.1670 - custom_accuracy: 0.9978 - val_loss: 0.3165 - val_custom_accuracy: 0.9167\n",
            "Epoch 8/25\n",
            "7/7 [==============================] - 1s 105ms/step - loss: 0.1883 - custom_accuracy: 0.9930 - val_loss: 0.2688 - val_custom_accuracy: 0.9375\n",
            "Epoch 9/25\n",
            "7/7 [==============================] - 1s 106ms/step - loss: 0.2402 - custom_accuracy: 0.9733 - val_loss: 0.2299 - val_custom_accuracy: 0.9583\n",
            "Epoch 10/25\n",
            "7/7 [==============================] - 1s 108ms/step - loss: 0.1888 - custom_accuracy: 0.9807 - val_loss: 0.3852 - val_custom_accuracy: 0.8958\n",
            "Epoch 11/25\n",
            "7/7 [==============================] - 1s 104ms/step - loss: 0.2420 - custom_accuracy: 0.9662 - val_loss: 0.3121 - val_custom_accuracy: 0.9167\n",
            "Epoch 12/25\n",
            "7/7 [==============================] - 1s 107ms/step - loss: 0.2093 - custom_accuracy: 0.9568 - val_loss: 0.2198 - val_custom_accuracy: 0.9792\n",
            "Epoch 13/25\n",
            "7/7 [==============================] - 1s 113ms/step - loss: 0.1675 - custom_accuracy: 0.9813 - val_loss: 0.1860 - val_custom_accuracy: 1.0000\n",
            "Epoch 14/25\n",
            "7/7 [==============================] - 1s 106ms/step - loss: 0.1734 - custom_accuracy: 0.9751 - val_loss: 0.1936 - val_custom_accuracy: 0.9792\n",
            "Epoch 15/25\n",
            "7/7 [==============================] - 1s 115ms/step - loss: 0.1386 - custom_accuracy: 0.9933 - val_loss: 0.1951 - val_custom_accuracy: 0.9792\n",
            "Epoch 16/25\n",
            "7/7 [==============================] - 1s 107ms/step - loss: 0.1780 - custom_accuracy: 0.9833 - val_loss: 0.2208 - val_custom_accuracy: 0.9583\n",
            "Epoch 17/25\n",
            "7/7 [==============================] - 1s 106ms/step - loss: 0.1924 - custom_accuracy: 0.9733 - val_loss: 0.1719 - val_custom_accuracy: 0.9792\n",
            "Epoch 18/25\n",
            "7/7 [==============================] - 1s 108ms/step - loss: 0.1515 - custom_accuracy: 0.9903 - val_loss: 0.2733 - val_custom_accuracy: 0.9167\n",
            "Epoch 19/25\n",
            "7/7 [==============================] - 1s 108ms/step - loss: 0.1957 - custom_accuracy: 0.9759 - val_loss: 0.2187 - val_custom_accuracy: 0.9583\n",
            "Epoch 20/25\n",
            "7/7 [==============================] - 1s 107ms/step - loss: 0.2029 - custom_accuracy: 0.9437 - val_loss: 0.1755 - val_custom_accuracy: 1.0000\n",
            "Epoch 21/25\n",
            "7/7 [==============================] - 1s 114ms/step - loss: 0.1657 - custom_accuracy: 1.0000 - val_loss: 0.2080 - val_custom_accuracy: 0.9792\n",
            "Epoch 22/25\n",
            "7/7 [==============================] - 1s 117ms/step - loss: 0.1951 - custom_accuracy: 0.9903 - val_loss: 0.1939 - val_custom_accuracy: 1.0000\n",
            "Epoch 23/25\n",
            "7/7 [==============================] - 1s 112ms/step - loss: 0.1377 - custom_accuracy: 0.9955 - val_loss: 0.1797 - val_custom_accuracy: 1.0000\n",
            "Epoch 24/25\n",
            "7/7 [==============================] - 1s 107ms/step - loss: 0.1711 - custom_accuracy: 1.0000 - val_loss: 0.2352 - val_custom_accuracy: 0.9583\n",
            "Epoch 25/25\n",
            "7/7 [==============================] - 1s 110ms/step - loss: 0.1737 - custom_accuracy: 1.0000 - val_loss: 0.2210 - val_custom_accuracy: 0.9583\n"
          ]
        }
      ]
    },
    {
      "cell_type": "code",
      "metadata": {
        "colab": {
          "base_uri": "https://localhost:8080/",
          "height": 294
        },
        "id": "-UFQ_TIqL9W7",
        "outputId": "b6315db9-44dc-4f20-f463-1cf87e5507b6"
      },
      "source": [
        "plt.plot(history.history['val_custom_accuracy'], label='QCNN')\n",
        "plt.plot(hybrid_history.history['val_custom_accuracy'], label='Hybrid CNN')\n",
        "plt.title('Quantum vs Hybrid CNN performance')\n",
        "plt.xlabel('Epochs')\n",
        "plt.legend()\n",
        "plt.ylabel('Validation Accuracy')\n",
        "plt.show()"
      ],
      "execution_count": 26,
      "outputs": [
        {
          "output_type": "display_data",
          "data": {
            "image/png": "[encoded data removed]",
            "text/plain": [
              "<Figure size 432x288 with 1 Axes>"
            ]
          },
          "metadata": {
            "needs_background": "light"
          }
        }
      ]
    },
    {
      "cell_type": "code",
      "metadata": {
        "colab": {
          "base_uri": "https://localhost:8080/",
          "height": 474
        },
        "id": "S-SGHszgMLij",
        "outputId": "0836e8cb-1442-4bf2-d8ee-7d55eacb3013"
      },
      "source": [
        "excitation_input_multi = tf.keras.Input(shape=(), dtype=tf.dtypes.string)\n",
        "\n",
        "cluster_state_multi = tfq.layers.AddCircuit()(\n",
        "    excitation_input_multi, prepend=cluster_state_circuit(cluster_state_bits))\n",
        "\n",
        "# apply 3 different filters and measure expectation values\n",
        "\n",
        "quantum_model_multi1 = tfq.layers.PQC(\n",
        "    multi_readout_model_circuit(cluster_state_bits),\n",
        "    readouts)(cluster_state_multi)\n",
        "\n",
        "quantum_model_multi2 = tfq.layers.PQC(\n",
        "    multi_readout_model_circuit(cluster_state_bits),\n",
        "    readouts)(cluster_state_multi)\n",
        "\n",
        "quantum_model_multi3 = tfq.layers.PQC(\n",
        "    multi_readout_model_circuit(cluster_state_bits),\n",
        "    readouts)(cluster_state_multi)\n",
        "\n",
        "# concatenate outputs and feed into a small classical NN\n",
        "concat_out = tf.keras.layers.concatenate(\n",
        "    [quantum_model_multi1, quantum_model_multi2, quantum_model_multi3])\n",
        "\n",
        "dense_1 = tf.keras.layers.Dense(8)(concat_out)\n",
        "\n",
        "dense_2 = tf.keras.layers.Dense(1)(dense_1)\n",
        "\n",
        "multi_qconv_model = tf.keras.Model(inputs=[excitation_input_multi],\n",
        "                                   outputs=[dense_2])\n",
        "\n",
        "# Display the model architecture\n",
        "tf.keras.utils.plot_model(multi_qconv_model,\n",
        "                          show_shapes=True,\n",
        "                          show_layer_names=True,\n",
        "                          dpi=70)"
      ],
      "execution_count": 27,
      "outputs": [
        {
          "output_type": "execute_result",
          "data": {
            "image/png": "[encoded data removed]",
            "text/plain": [
              "<IPython.core.display.Image object>"
            ]
          },
          "metadata": {},
          "execution_count": 27
        }
      ]
    },
    {
      "cell_type": "code",
      "metadata": {
        "colab": {
          "base_uri": "https://localhost:8080/"
        },
        "id": "7lKShPqdMZgv",
        "outputId": "cb5b053e-3a2a-4eb0-9edc-ca673b15ce42"
      },
      "source": [
        "multi_qconv_model.compile(\n",
        "    optimizer=tf.keras.optimizers.Adam(learning_rate=0.02),\n",
        "    loss=tf.losses.mse,\n",
        "    metrics=[custom_accuracy])\n",
        "\n",
        "multi_qconv_history = multi_qconv_model.fit(x=train_excitations,\n",
        "                                            y=train_labels,\n",
        "                                            batch_size=16,\n",
        "                                            epochs=25,\n",
        "                                            verbose=1,\n",
        "                                            validation_data=(test_excitations,\n",
        "                                                             test_labels))"
      ],
      "execution_count": 28,
      "outputs": [
        {
          "output_type": "stream",
          "name": "stdout",
          "text": [
            "Epoch 1/25\n",
            "7/7 [==============================] - 3s 304ms/step - loss: 1.0331 - custom_accuracy: 0.4910 - val_loss: 0.7256 - val_custom_accuracy: 0.8542\n",
            "Epoch 2/25\n",
            "7/7 [==============================] - 2s 270ms/step - loss: 0.6030 - custom_accuracy: 0.8702 - val_loss: 0.2678 - val_custom_accuracy: 0.9375\n",
            "Epoch 3/25\n",
            "7/7 [==============================] - 2s 270ms/step - loss: 0.2702 - custom_accuracy: 0.9410 - val_loss: 0.2545 - val_custom_accuracy: 0.9375\n",
            "Epoch 4/25\n",
            "7/7 [==============================] - 2s 265ms/step - loss: 0.1883 - custom_accuracy: 0.9869 - val_loss: 0.2366 - val_custom_accuracy: 0.9792\n",
            "Epoch 5/25\n",
            "7/7 [==============================] - 2s 263ms/step - loss: 0.2066 - custom_accuracy: 0.9700 - val_loss: 0.1960 - val_custom_accuracy: 0.9583\n",
            "Epoch 6/25\n",
            "7/7 [==============================] - 2s 269ms/step - loss: 0.1995 - custom_accuracy: 0.9864 - val_loss: 0.1894 - val_custom_accuracy: 0.9792\n",
            "Epoch 7/25\n",
            "7/7 [==============================] - 2s 263ms/step - loss: 0.1896 - custom_accuracy: 0.9894 - val_loss: 0.2034 - val_custom_accuracy: 0.9583\n",
            "Epoch 8/25\n",
            "7/7 [==============================] - 2s 268ms/step - loss: 0.2078 - custom_accuracy: 0.9808 - val_loss: 0.2147 - val_custom_accuracy: 0.9583\n",
            "Epoch 9/25\n",
            "7/7 [==============================] - 2s 261ms/step - loss: 0.2174 - custom_accuracy: 0.9716 - val_loss: 0.2448 - val_custom_accuracy: 0.9792\n",
            "Epoch 10/25\n",
            "7/7 [==============================] - 2s 258ms/step - loss: 0.1873 - custom_accuracy: 0.9920 - val_loss: 0.1702 - val_custom_accuracy: 0.9792\n",
            "Epoch 11/25\n",
            "7/7 [==============================] - 2s 267ms/step - loss: 0.2003 - custom_accuracy: 0.9735 - val_loss: 0.2414 - val_custom_accuracy: 0.9583\n",
            "Epoch 12/25\n",
            "7/7 [==============================] - 2s 272ms/step - loss: 0.1543 - custom_accuracy: 0.9788 - val_loss: 0.1965 - val_custom_accuracy: 0.9792\n",
            "Epoch 13/25\n",
            "7/7 [==============================] - 2s 262ms/step - loss: 0.1418 - custom_accuracy: 0.9942 - val_loss: 0.2688 - val_custom_accuracy: 0.9583\n",
            "Epoch 14/25\n",
            "7/7 [==============================] - 2s 260ms/step - loss: 0.2509 - custom_accuracy: 0.9339 - val_loss: 0.2043 - val_custom_accuracy: 1.0000\n",
            "Epoch 15/25\n",
            "7/7 [==============================] - 2s 271ms/step - loss: 0.2178 - custom_accuracy: 0.9723 - val_loss: 0.2012 - val_custom_accuracy: 0.9792\n",
            "Epoch 16/25\n",
            "7/7 [==============================] - 2s 263ms/step - loss: 0.2445 - custom_accuracy: 0.9927 - val_loss: 0.2647 - val_custom_accuracy: 0.9375\n",
            "Epoch 17/25\n",
            "7/7 [==============================] - 2s 267ms/step - loss: 0.2139 - custom_accuracy: 0.9881 - val_loss: 0.2594 - val_custom_accuracy: 0.9583\n",
            "Epoch 18/25\n",
            "7/7 [==============================] - 2s 273ms/step - loss: 0.1816 - custom_accuracy: 0.9929 - val_loss: 0.1729 - val_custom_accuracy: 1.0000\n",
            "Epoch 19/25\n",
            "7/7 [==============================] - 2s 263ms/step - loss: 0.1791 - custom_accuracy: 1.0000 - val_loss: 0.2075 - val_custom_accuracy: 0.9792\n",
            "Epoch 20/25\n",
            "7/7 [==============================] - 2s 257ms/step - loss: 0.1675 - custom_accuracy: 0.9808 - val_loss: 0.1774 - val_custom_accuracy: 1.0000\n",
            "Epoch 21/25\n",
            "7/7 [==============================] - 2s 268ms/step - loss: 0.1958 - custom_accuracy: 0.9903 - val_loss: 0.1905 - val_custom_accuracy: 1.0000\n",
            "Epoch 22/25\n",
            "7/7 [==============================] - 2s 270ms/step - loss: 0.1984 - custom_accuracy: 0.9907 - val_loss: 0.1936 - val_custom_accuracy: 0.9792\n",
            "Epoch 23/25\n",
            "7/7 [==============================] - 2s 252ms/step - loss: 0.1680 - custom_accuracy: 0.9894 - val_loss: 0.1829 - val_custom_accuracy: 0.9792\n",
            "Epoch 24/25\n",
            "7/7 [==============================] - 2s 254ms/step - loss: 0.1768 - custom_accuracy: 0.9978 - val_loss: 0.1929 - val_custom_accuracy: 1.0000\n",
            "Epoch 25/25\n",
            "7/7 [==============================] - 2s 264ms/step - loss: 0.1603 - custom_accuracy: 0.9965 - val_loss: 0.1871 - val_custom_accuracy: 1.0000\n"
          ]
        }
      ]
    }
  ]
}